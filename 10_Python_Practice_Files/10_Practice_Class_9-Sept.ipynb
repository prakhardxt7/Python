{
 "cells": [
  {
   "cell_type": "raw",
   "id": "43661841-f835-4126-a3e7-22751e3ed363",
   "metadata": {},
   "source": [
    "1. create an empty tuple\r\n",
    "2. check if a tuple can have mixed type of values\r\n",
    "3. tuple is like lists. see if they can contain tuples as elements\r\n",
    "4. can a tuple contain a list as an elemen. t\r\n",
    "5 create a tuple of tuples, fetch the second tuple from thi. s.\r\n",
    "6 from the second tuple fetch the second elem. ent\r\n",
    "7 does negative indexing work in tup. les?\r\n",
    "8 create a 6 elements tuple and try to fetch second on. wards\r\n",
    "9 fetch the 3rd to 5th ele. ments\r\n",
    "10 create a function which takes in a list an returns the 2nd and 4th elements. receive this as a tuple into two variables."
   ]
  },
  {
   "cell_type": "code",
   "execution_count": 3,
   "id": "834445f2-b7ff-45ee-992e-d0377b8403ed",
   "metadata": {},
   "outputs": [],
   "source": [
    "#1.create an empty tuple\n",
    "tp = ()"
   ]
  },
  {
   "cell_type": "code",
   "execution_count": 74,
   "id": "026664ed-1155-420d-808e-702a894e46f9",
   "metadata": {},
   "outputs": [
    {
     "data": {
      "text/plain": [
       "0"
      ]
     },
     "execution_count": 74,
     "metadata": {},
     "output_type": "execute_result"
    }
   ],
   "source": [
    "len(tp)"
   ]
  },
  {
   "cell_type": "code",
   "execution_count": 7,
   "id": "271e7489-3daa-411b-948e-2eff1446e21a",
   "metadata": {},
   "outputs": [],
   "source": [
    "#2. check if a tuple can have mixed type of values\n",
    "tp1 = (1,'abcd',2,24.56,True)"
   ]
  },
  {
   "cell_type": "code",
   "execution_count": 9,
   "id": "ae565078-9c2b-4196-bb42-e19a3a05f2ce",
   "metadata": {},
   "outputs": [
    {
     "data": {
      "text/plain": [
       "(1, 'abcd', 2, 24.56, True)"
      ]
     },
     "execution_count": 9,
     "metadata": {},
     "output_type": "execute_result"
    }
   ],
   "source": [
    "tp1"
   ]
  },
  {
   "cell_type": "code",
   "execution_count": 11,
   "id": "1378c41c-5d82-4f61-b46c-718564a6a7ca",
   "metadata": {},
   "outputs": [
    {
     "data": {
      "text/plain": [
       "'abcd'"
      ]
     },
     "execution_count": 11,
     "metadata": {},
     "output_type": "execute_result"
    }
   ],
   "source": [
    "#3. tuple is like lists. see if they can contain tuples as elements\n",
    "tp1[1]"
   ]
  },
  {
   "cell_type": "code",
   "execution_count": 13,
   "id": "0d979fc9-2468-4a4d-8029-fb967a02d13f",
   "metadata": {},
   "outputs": [
    {
     "data": {
      "text/plain": [
       "(True, 24.56, 2, 'abcd', 1)"
      ]
     },
     "execution_count": 13,
     "metadata": {},
     "output_type": "execute_result"
    }
   ],
   "source": [
    "tp1[::-1]"
   ]
  },
  {
   "cell_type": "code",
   "execution_count": 15,
   "id": "24f4e41a-1ab7-4fdc-ab6e-d21c738a726f",
   "metadata": {},
   "outputs": [
    {
     "data": {
      "text/plain": [
       "('abcd', 2)"
      ]
     },
     "execution_count": 15,
     "metadata": {},
     "output_type": "execute_result"
    }
   ],
   "source": [
    "tp1[1:3]"
   ]
  },
  {
   "cell_type": "code",
   "execution_count": 17,
   "id": "10f16748-ae5b-48d7-b09b-93f018903f00",
   "metadata": {},
   "outputs": [
    {
     "data": {
      "text/plain": [
       "(1, 2, True)"
      ]
     },
     "execution_count": 17,
     "metadata": {},
     "output_type": "execute_result"
    }
   ],
   "source": [
    "tp1[::2]"
   ]
  },
  {
   "cell_type": "code",
   "execution_count": 19,
   "id": "ec13e45d-5240-4ae3-a578-53b40574d1fc",
   "metadata": {},
   "outputs": [
    {
     "name": "stdout",
     "output_type": "stream",
     "text": [
      "1\n",
      "abcd\n",
      "2\n",
      "24.56\n",
      "True\n"
     ]
    }
   ],
   "source": [
    "for i in tp1:\n",
    "    print(i)"
   ]
  },
  {
   "cell_type": "code",
   "execution_count": 28,
   "id": "da5b16ec-cdb2-4848-b844-844141a531ee",
   "metadata": {},
   "outputs": [
    {
     "data": {
      "text/plain": [
       "(1, 2, [1, 2, 'abcd', True], 'hello')"
      ]
     },
     "execution_count": 28,
     "metadata": {},
     "output_type": "execute_result"
    }
   ],
   "source": [
    "#4. can a tuple contain a list as an elemen. t\n",
    "tp_list = (1,2,[1,2,'abcd',True],'hello')\n",
    "tp_list"
   ]
  },
  {
   "cell_type": "code",
   "execution_count": 24,
   "id": "52ef5057-23f2-4c0b-a9e9-37a513643cc1",
   "metadata": {},
   "outputs": [
    {
     "data": {
      "text/plain": [
       "(1, 2, [1, 2, 'abcd', True], 'hello')"
      ]
     },
     "execution_count": 24,
     "metadata": {},
     "output_type": "execute_result"
    }
   ],
   "source": []
  },
  {
   "cell_type": "code",
   "execution_count": 34,
   "id": "ba8f2c7b-e764-4d43-8c6f-e73a95c1c30d",
   "metadata": {},
   "outputs": [
    {
     "name": "stdout",
     "output_type": "stream",
     "text": [
      "(5, 6, 7)\n",
      "(1, 'c', 8)\n"
     ]
    }
   ],
   "source": [
    "#5 create a tuple of tuples, fetch the second tuple from thi. s.\n",
    "tp_tp = (1,2,[1,2,3],(5,6,7),('a','b',(1,'c',8)))\n",
    "print(tp_tp[3])\n",
    "print(tp_tp[4][2])"
   ]
  },
  {
   "cell_type": "code",
   "execution_count": 36,
   "id": "af5fff99-40f4-45fc-9c62-af8403d2306f",
   "metadata": {},
   "outputs": [
    {
     "name": "stdout",
     "output_type": "stream",
     "text": [
      "b\n"
     ]
    }
   ],
   "source": [
    "#from the second tuple fetch the second element\n",
    "print(tp_tp[4][1])"
   ]
  },
  {
   "cell_type": "code",
   "execution_count": 38,
   "id": "53cc87c8-1160-4ffd-8242-26d0de6f481e",
   "metadata": {},
   "outputs": [
    {
     "data": {
      "text/plain": [
       "(True, 24.56, 2, 'abcd', 1)"
      ]
     },
     "execution_count": 38,
     "metadata": {},
     "output_type": "execute_result"
    }
   ],
   "source": [
    "#negative indexing\n",
    "tp1[::-1]"
   ]
  },
  {
   "cell_type": "code",
   "execution_count": 58,
   "id": "071d9ce2-dc68-4a5e-84f8-70f9d2f80403",
   "metadata": {},
   "outputs": [
    {
     "data": {
      "text/plain": [
       "(True, 2)"
      ]
     },
     "execution_count": 58,
     "metadata": {},
     "output_type": "execute_result"
    }
   ],
   "source": [
    "tp1[:1:-2]"
   ]
  },
  {
   "cell_type": "code",
   "execution_count": 60,
   "id": "b2f0d9ba-47fd-40f6-b312-56db4187ff0d",
   "metadata": {},
   "outputs": [
    {
     "data": {
      "text/plain": [
       "(2, 'Prakhar', [True, False], ('yes', 'no'), True)"
      ]
     },
     "execution_count": 60,
     "metadata": {},
     "output_type": "execute_result"
    }
   ],
   "source": [
    "#8 create a 6 elements tuple and try to fetch second onwards\n",
    "\n",
    "tp6 = (1,2,'Prakhar',[True,False],('yes','no'),True)\n",
    "\n",
    "tp6[1::]"
   ]
  },
  {
   "cell_type": "code",
   "execution_count": 64,
   "id": "251d4b80-f3fb-4854-acc3-6f111f857d10",
   "metadata": {},
   "outputs": [
    {
     "data": {
      "text/plain": [
       "([True, False], ('yes', 'no'), True)"
      ]
     },
     "execution_count": 64,
     "metadata": {},
     "output_type": "execute_result"
    }
   ],
   "source": [
    "#fetch the 3rd to 5th elements\n",
    "tp6[3:6]"
   ]
  },
  {
   "cell_type": "code",
   "execution_count": 78,
   "id": "4a54d49a-a067-4096-a50a-3b111cc3837c",
   "metadata": {},
   "outputs": [],
   "source": [
    "#create a function which takes in a list an returns the 2nd and 4th elements. receive this as a tuple into two variables.\n",
    "def ret_val(n):\n",
    "    a,b= n[1:5:2]\n",
    "    return a,b"
   ]
  },
  {
   "cell_type": "code",
   "execution_count": 80,
   "id": "4e7b7b4b-74cd-4df1-8e65-aaa3c26f0c90",
   "metadata": {},
   "outputs": [
    {
     "data": {
      "text/plain": [
       "(2, [True, False])"
      ]
     },
     "execution_count": 80,
     "metadata": {},
     "output_type": "execute_result"
    }
   ],
   "source": [
    "ret_val(tp6)"
   ]
  },
  {
   "cell_type": "code",
   "execution_count": 84,
   "id": "65362427-b99b-4297-a700-52d4c8a1a749",
   "metadata": {},
   "outputs": [],
   "source": [
    "def sq(x):\n",
    "    def sq1(y):\n",
    "        return y**2\n",
    "    return sq1(x)"
   ]
  },
  {
   "cell_type": "code",
   "execution_count": 86,
   "id": "8973a832-f2c0-4a33-a479-68ed34ad94db",
   "metadata": {},
   "outputs": [
    {
     "data": {
      "text/plain": [
       "4"
      ]
     },
     "execution_count": 86,
     "metadata": {},
     "output_type": "execute_result"
    }
   ],
   "source": [
    "sq(2)"
   ]
  },
  {
   "cell_type": "raw",
   "id": "0312369b-8fac-49d1-94b4-0d5af9c16092",
   "metadata": {},
   "source": [
    "map:\n",
    "- create a list of numbers, use a function and get the squares \n",
    "- create 4 more examples of where to use map\n",
    "\n",
    "zip:\n",
    "- create a list of numbers 1 to 5; create a list of names; using zip, match them and create combinations\n",
    "- iterate thru the zip object and display the names alone\n",
    "- create 4 examples of where to use zip\n",
    "\n",
    "filter:\n",
    "- create an array of numbers, using filter get the odd numbers\n",
    "- consider a array of marks, using filter get marks of the students who have scored 75 or more\n",
    "- create a list of numbers and strings, use filter to fetch the strings alone\n",
    "- create 2 more examples of where to use filter"
   ]
  },
  {
   "cell_type": "code",
   "execution_count": 92,
   "id": "0b65f154-e501-484a-9fc9-fcf6ac558a49",
   "metadata": {},
   "outputs": [
    {
     "data": {
      "text/plain": [
       "[1, 4, 9, 16]"
      ]
     },
     "execution_count": 92,
     "metadata": {},
     "output_type": "execute_result"
    }
   ],
   "source": [
    "# create a list of numbers, use a function and get the squares \n",
    "y = [1,2,3,4]\n",
    "f = list(map(lambda x:x**2,y))\n",
    "f"
   ]
  },
  {
   "cell_type": "code",
   "execution_count": 111,
   "id": "2a891b51-e1b5-477c-8f89-5f70451c7b32",
   "metadata": {},
   "outputs": [],
   "source": [
    "#create 4 more examples of where to use map\n",
    "#1\n",
    "y = 'string'\n",
    "f = (map(lambda x:x.upper(),y))\n",
    "f1 = list(f)\n",
    "fs = ''.join(f1)"
   ]
  },
  {
   "cell_type": "code",
   "execution_count": 107,
   "id": "ab7ce480-b5cd-44fd-9efc-11401351b7ed",
   "metadata": {},
   "outputs": [
    {
     "data": {
      "text/plain": [
       "['S', 'T', 'R', 'I', 'N', 'G']"
      ]
     },
     "execution_count": 107,
     "metadata": {},
     "output_type": "execute_result"
    }
   ],
   "source": [
    "f1"
   ]
  },
  {
   "cell_type": "code",
   "execution_count": 113,
   "id": "ed679caf-5f53-4e40-8063-460b235f97bb",
   "metadata": {},
   "outputs": [
    {
     "data": {
      "text/plain": [
       "'STRING'"
      ]
     },
     "execution_count": 113,
     "metadata": {},
     "output_type": "execute_result"
    }
   ],
   "source": [
    "fs"
   ]
  },
  {
   "cell_type": "code",
   "execution_count": 121,
   "id": "177449cc-32a3-4623-9a09-cd8e76fcf272",
   "metadata": {},
   "outputs": [],
   "source": [
    "#2 \n",
    "y = [1,2,3]\n",
    "add = list(map(lambda x:f'Roll_number {x}',y))"
   ]
  },
  {
   "cell_type": "code",
   "execution_count": 125,
   "id": "e3bf2aba-2401-4a98-b7b1-ad2a2104e1bc",
   "metadata": {},
   "outputs": [
    {
     "data": {
      "text/plain": [
       "['Roll_number 1', 'Roll_number 2', 'Roll_number 3']"
      ]
     },
     "execution_count": 125,
     "metadata": {},
     "output_type": "execute_result"
    }
   ],
   "source": [
    "add"
   ]
  },
  {
   "cell_type": "code",
   "execution_count": 154,
   "id": "039678de-cef6-4444-aecf-b5e4aae16689",
   "metadata": {},
   "outputs": [],
   "source": [
    "# 3\n",
    "y = [100,-200,300,-9000,10000]\n",
    "l1 = tuple(map(lambda x: 'Positive' if x>0 else 'Negative',y))"
   ]
  },
  {
   "cell_type": "code",
   "execution_count": 158,
   "id": "290f62e9-537c-42f6-a228-80cf64f40030",
   "metadata": {},
   "outputs": [
    {
     "data": {
      "text/plain": [
       "('Positive', 'Negative', 'Positive', 'Negative', 'Positive')"
      ]
     },
     "execution_count": 158,
     "metadata": {},
     "output_type": "execute_result"
    }
   ],
   "source": [
    "l1"
   ]
  },
  {
   "cell_type": "code",
   "execution_count": 170,
   "id": "0871a228-77a3-44e3-bed3-629917e6c158",
   "metadata": {},
   "outputs": [],
   "source": [
    "#4. \n",
    "y = ('Hello','World',123,True,False,64)\n",
    "l2 = list(map(lambda x: 'int' if type(x)==int else 'other_dtype',y))"
   ]
  },
  {
   "cell_type": "code",
   "execution_count": 172,
   "id": "3f28380e-a42b-449a-998c-3a7cc60d91e2",
   "metadata": {},
   "outputs": [
    {
     "data": {
      "text/plain": [
       "['other_dtype', 'other_dtype', 'int', 'other_dtype', 'other_dtype', 'int']"
      ]
     },
     "execution_count": 172,
     "metadata": {},
     "output_type": "execute_result"
    }
   ],
   "source": [
    "l2"
   ]
  },
  {
   "cell_type": "raw",
   "id": "e97ea10f-062e-403a-b028-226133790c84",
   "metadata": {},
   "source": [
    "- create a list of numbers 1 to 5; create a list of names; using zip, match them and create combinations\n",
    "- iterate thru the zip object and display the names alone\n",
    "- create 4 examples of where to use zip"
   ]
  },
  {
   "cell_type": "code",
   "execution_count": 182,
   "id": "0b08243d-5b19-4290-98be-e72ee4d1f664",
   "metadata": {},
   "outputs": [
    {
     "name": "stdout",
     "output_type": "stream",
     "text": [
      "[('Prakhar', 25), ('Shivam', 25), ('Vaibhav', 23)]\n",
      "{'Prakhar': 25, 'Shivam': 25, 'Vaibhav': 23}\n",
      "(('Prakhar', 25), ('Shivam', 25), ('Vaibhav', 23))\n"
     ]
    }
   ],
   "source": [
    "l_name = ['Prakhar','Shivam','Vaibhav']\n",
    "age = [25,25,23]\n",
    "print(list(zip(l_name,age)))\n",
    "print(dict(zip(l_name,age)))\n",
    "print(tuple(zip(l_name,age)))"
   ]
  },
  {
   "cell_type": "code",
   "execution_count": 184,
   "id": "f13630d1-8102-48e2-a2b3-1913b90f351c",
   "metadata": {},
   "outputs": [],
   "source": [
    "d1 = dict(zip(l_name,age))"
   ]
  },
  {
   "cell_type": "code",
   "execution_count": 190,
   "id": "71c9c535-3e86-4f5e-bb2a-8de75878960e",
   "metadata": {},
   "outputs": [
    {
     "name": "stdout",
     "output_type": "stream",
     "text": [
      "Prakhar\n",
      "Shivam\n",
      "Vaibhav\n"
     ]
    }
   ],
   "source": [
    "for name,age in d1.items():\n",
    "    print(name)"
   ]
  },
  {
   "cell_type": "code",
   "execution_count": 192,
   "id": "225297ab-d3c9-443a-ac29-3ce2dd844c64",
   "metadata": {},
   "outputs": [
    {
     "name": "stdout",
     "output_type": "stream",
     "text": [
      "{'Hello': 'other_dtype', 'World': 'other_dtype', 123: 'int', True: 'other_dtype', False: 'other_dtype', 64: 'int'}\n"
     ]
    }
   ],
   "source": [
    "y = ('Hello','World',123,True,False,64)\n",
    "l2 = list(map(lambda x: 'int' if type(x)==int else 'other_dtype',y))\n",
    "\n",
    "print(dict(zip(y,l2)))"
   ]
  },
  {
   "cell_type": "code",
   "execution_count": 194,
   "id": "519a9ee0-5c74-47eb-bd4c-60709c7a8d70",
   "metadata": {},
   "outputs": [
    {
     "name": "stdout",
     "output_type": "stream",
     "text": [
      "[(100, 'Positive'), (-200, 'Negative'), (300, 'Positive'), (-9000, 'Negative'), (10000, 'Positive')]\n"
     ]
    }
   ],
   "source": [
    "y = [100,-200,300,-9000,10000]\n",
    "l1 = tuple(map(lambda x: 'Positive' if x>0 else 'Negative',y))\n",
    "print(list(zip(y,l1)))"
   ]
  },
  {
   "cell_type": "code",
   "execution_count": 196,
   "id": "a6084428-50a0-446e-b601-304b6d2824ca",
   "metadata": {},
   "outputs": [
    {
     "name": "stdout",
     "output_type": "stream",
     "text": [
      "((1, 1), (2, 4), (3, 9), (4, 16))\n"
     ]
    }
   ],
   "source": [
    "y = [1,2,3,4]\n",
    "f = list(map(lambda x:x**2,y))\n",
    "print(tuple(zip(y,f)))"
   ]
  },
  {
   "cell_type": "code",
   "execution_count": 198,
   "id": "8c88e739-ff50-46bb-98c3-87befc8cb6e4",
   "metadata": {},
   "outputs": [
    {
     "data": {
      "text/plain": [
       "{1: 'Roll_number 1', 2: 'Roll_number 2', 3: 'Roll_number 3'}"
      ]
     },
     "execution_count": 198,
     "metadata": {},
     "output_type": "execute_result"
    }
   ],
   "source": [
    "y = [1,2,3]\n",
    "add = list(map(lambda x:f'Roll_number {x}',y))\n",
    "dict(zip(y,add))"
   ]
  },
  {
   "cell_type": "raw",
   "id": "f65f21aa-0496-4259-a874-7cbebb8ebbcc",
   "metadata": {},
   "source": [
    "- create an array of numbers, using filter get the odd numbers\n",
    "- consider a array of marks, using filter get marks of the students who have scored 75 or more\n",
    "- create a list of numbers and strings, use filter to fetch the strings alone\n",
    "- create 2 more examples of where to use filter"
   ]
  },
  {
   "cell_type": "code",
   "execution_count": 220,
   "id": "f6c84406-2a30-4487-ab86-4d08a4564290",
   "metadata": {},
   "outputs": [],
   "source": [
    "l4 = [10,20,31,4,55,31,46,61]\n",
    "l_odd = list(filter(lambda x: x%2!=0,l4))"
   ]
  },
  {
   "cell_type": "code",
   "execution_count": 222,
   "id": "25edfdf5-20f2-4502-9b0f-630865c06ffd",
   "metadata": {},
   "outputs": [
    {
     "data": {
      "text/plain": [
       "[31, 55, 31, 61]"
      ]
     },
     "execution_count": 222,
     "metadata": {},
     "output_type": "execute_result"
    }
   ],
   "source": [
    "l_odd"
   ]
  },
  {
   "cell_type": "code",
   "execution_count": 228,
   "id": "d57efbd3-5274-4a09-8e3b-b547839157d2",
   "metadata": {},
   "outputs": [
    {
     "data": {
      "text/plain": [
       "(100, 300, 10000)"
      ]
     },
     "execution_count": 228,
     "metadata": {},
     "output_type": "execute_result"
    }
   ],
   "source": [
    "y = [100,-200,300,-9000,10000]\n",
    "l1 = tuple(filter(lambda x:x>0 ,y))\n",
    "l1"
   ]
  },
  {
   "cell_type": "code",
   "execution_count": 311,
   "id": "653dc887-78f6-4acf-8d39-252479d0c56d",
   "metadata": {},
   "outputs": [],
   "source": [
    "import pandas as pd\n",
    "Marks = [80,63,44,75,96]\n",
    "Name = ['A','B','C','D','E']\n",
    "Score = tuple(zip(Name,Marks))\n",
    "Name_Score = tuple(filter(lambda x:x[1]>=75,Score))\n"
   ]
  },
  {
   "cell_type": "code",
   "execution_count": 321,
   "id": "2e577c13-435f-4030-87fa-adf039b57d2b",
   "metadata": {},
   "outputs": [
    {
     "data": {
      "text/html": [
       "<div>\n",
       "<style scoped>\n",
       "    .dataframe tbody tr th:only-of-type {\n",
       "        vertical-align: middle;\n",
       "    }\n",
       "\n",
       "    .dataframe tbody tr th {\n",
       "        vertical-align: top;\n",
       "    }\n",
       "\n",
       "    .dataframe thead th {\n",
       "        text-align: right;\n",
       "    }\n",
       "</style>\n",
       "<table border=\"1\" class=\"dataframe\">\n",
       "  <thead>\n",
       "    <tr style=\"text-align: right;\">\n",
       "      <th></th>\n",
       "      <th>Marks</th>\n",
       "      <th>Name</th>\n",
       "    </tr>\n",
       "  </thead>\n",
       "  <tbody>\n",
       "    <tr>\n",
       "      <th>0</th>\n",
       "      <td>80</td>\n",
       "      <td>A</td>\n",
       "    </tr>\n",
       "    <tr>\n",
       "      <th>4</th>\n",
       "      <td>96</td>\n",
       "      <td>E</td>\n",
       "    </tr>\n",
       "  </tbody>\n",
       "</table>\n",
       "</div>"
      ],
      "text/plain": [
       "   Marks Name\n",
       "0     80    A\n",
       "4     96    E"
      ]
     },
     "execution_count": 321,
     "metadata": {},
     "output_type": "execute_result"
    }
   ],
   "source": [
    "df = pd.DataFrame({'Marks':Marks,'Name':Name})\n",
    "df[df['Marks']>75]\n"
   ]
  },
  {
   "cell_type": "code",
   "execution_count": 287,
   "id": "d1a3caec-a39a-4f10-9693-d372cc84ba40",
   "metadata": {},
   "outputs": [
    {
     "data": {
      "text/plain": [
       "(('A', 80), ('D', 75))"
      ]
     },
     "execution_count": 287,
     "metadata": {},
     "output_type": "execute_result"
    }
   ],
   "source": [
    "Name_Score"
   ]
  },
  {
   "cell_type": "code",
   "execution_count": 281,
   "id": "60aa4f35-8ed1-4599-9c79-29848f09e195",
   "metadata": {},
   "outputs": [],
   "source": [
    "Marks = [80,63,44,75,96]\n",
    "\n",
    "Name_Score1 = tuple(filter(lambda x:x>=75,Marks))"
   ]
  },
  {
   "cell_type": "code",
   "execution_count": 283,
   "id": "284820a6-6261-4e2f-8937-c7f464664e36",
   "metadata": {},
   "outputs": [
    {
     "data": {
      "text/plain": [
       "(80, 75, 96)"
      ]
     },
     "execution_count": 283,
     "metadata": {},
     "output_type": "execute_result"
    }
   ],
   "source": [
    "Name_Score1"
   ]
  },
  {
   "cell_type": "code",
   "execution_count": 323,
   "id": "6a4dbecc-b8da-4a6c-b9c8-3c4a8e678807",
   "metadata": {},
   "outputs": [
    {
     "data": {
      "text/plain": [
       "str"
      ]
     },
     "execution_count": 323,
     "metadata": {},
     "output_type": "execute_result"
    }
   ],
   "source": [
    "a = 'a'\n",
    "type(a)"
   ]
  },
  {
   "cell_type": "code",
   "execution_count": null,
   "id": "3932d824-8390-4307-8b20-ad7407a6e53e",
   "metadata": {},
   "outputs": [],
   "source": []
  }
 ],
 "metadata": {
  "kernelspec": {
   "display_name": "Python 3 (ipykernel)",
   "language": "python",
   "name": "python3"
  },
  "language_info": {
   "codemirror_mode": {
    "name": "ipython",
    "version": 3
   },
   "file_extension": ".py",
   "mimetype": "text/x-python",
   "name": "python",
   "nbconvert_exporter": "python",
   "pygments_lexer": "ipython3",
   "version": "3.12.4"
  }
 },
 "nbformat": 4,
 "nbformat_minor": 5
}
