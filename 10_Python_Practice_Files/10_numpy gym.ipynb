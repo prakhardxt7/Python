{
 "cells": [
  {
   "cell_type": "code",
   "execution_count": 1,
   "id": "3d93f39e",
   "metadata": {},
   "outputs": [],
   "source": [
    "import numpy as np"
   ]
  },
  {
   "cell_type": "code",
   "execution_count": 5,
   "id": "db9320c4",
   "metadata": {},
   "outputs": [
    {
     "data": {
      "text/plain": [
       "array([ 1,  2,  3,  4,  5,  6,  7,  8,  9, 10])"
      ]
     },
     "execution_count": 5,
     "metadata": {},
     "output_type": "execute_result"
    }
   ],
   "source": [
    "#1 create array with numbers 0,1,2,..10\n",
    "np.arange(1,11)"
   ]
  },
  {
   "cell_type": "code",
   "execution_count": 7,
   "id": "804f8a01",
   "metadata": {},
   "outputs": [
    {
     "data": {
      "text/plain": [
       "array([-10,  -9,  -8,  -7,  -6,  -5,  -4,  -3,  -2,  -1,   0])"
      ]
     },
     "execution_count": 7,
     "metadata": {},
     "output_type": "execute_result"
    }
   ],
   "source": [
    "#2 create array with numbers -10,-9,...0\n",
    "np.arange(-10,1)"
   ]
  },
  {
   "cell_type": "code",
   "execution_count": 9,
   "id": "9d8b1ca4",
   "metadata": {},
   "outputs": [
    {
     "data": {
      "text/plain": [
       "array([ 0,  2,  4,  6,  8, 10, 12, 14, 16, 18, 20, 22, 24, 26, 28, 30, 32,\n",
       "       34, 36, 38, 40, 42, 44, 46, 48, 50, 52, 54, 56, 58, 60, 62, 64, 66,\n",
       "       68, 70, 72, 74, 76, 78, 80, 82, 84, 86, 88, 90, 92, 94, 96, 98])"
      ]
     },
     "execution_count": 9,
     "metadata": {},
     "output_type": "execute_result"
    }
   ],
   "source": [
    "#3 create array with all even numbers in 0 to 100\n",
    "np.arange(0,100,2)"
   ]
  },
  {
   "cell_type": "code",
   "execution_count": 11,
   "id": "21ad025d",
   "metadata": {},
   "outputs": [
    {
     "name": "stdout",
     "output_type": "stream",
     "text": [
      "[[13 14 15]\n",
      " [10 11 12]\n",
      " [ 7  8  9]\n",
      " [ 4  5  6]\n",
      " [ 1  2  3]]\n"
     ]
    }
   ],
   "source": [
    "#4 take array in Q1 and reverse it\n",
    "Q1 = np.arange(1,16).reshape(5,3)\n",
    "\n",
    "\n",
    "print(Q1[::-1])\n"
   ]
  },
  {
   "cell_type": "code",
   "execution_count": 1,
   "id": "71996b57",
   "metadata": {},
   "outputs": [
    {
     "name": "stdout",
     "output_type": "stream",
     "text": [
      "[0, 1, 4, 9, 16, 25, 36, 49, 64, 81, 100]\n"
     ]
    }
   ],
   "source": [
    "#5 create array with perfect square numbers in 0 to 100 (e.g. 9 is one because it is square of 3)\n",
    "squares = []\n",
    "i = 0\n",
    "while i**2 <= 100:\n",
    "    squares.append(i**2)\n",
    "    i += 1\n",
    "\n",
    "print(squares)"
   ]
  },
  {
   "cell_type": "raw",
   "id": "6d764b81-9368-440f-9545-e170bbb8c48f",
   "metadata": {},
   "source": [
    "## Doubt in 6,7"
   ]
  },
  {
   "cell_type": "code",
   "execution_count": 3,
   "id": "10e1a298",
   "metadata": {},
   "outputs": [
    {
     "data": {
      "text/plain": [
       "array([ 4,  8, 14, 18, 44, 45, 64, 84, 93, 95])"
      ]
     },
     "execution_count": 3,
     "metadata": {},
     "output_type": "execute_result"
    }
   ],
   "source": [
    "#6 create an unsorted array, sort it in ascending order\n",
    "np.random.seed(22)\n",
    "n1 = np.random.randint(0,100,10)\n",
    "#n1 = np.sort(n1)\n",
    "n1.sort()\n",
    "n1"
   ]
  },
  {
   "cell_type": "code",
   "execution_count": 15,
   "id": "ef2f7032",
   "metadata": {},
   "outputs": [
    {
     "data": {
      "text/plain": [
       "array([95, 93, 84, 64, 45, 44, 18, 14,  8,  4])"
      ]
     },
     "execution_count": 15,
     "metadata": {},
     "output_type": "execute_result"
    }
   ],
   "source": [
    "#7 create an unsorted array, sort it in descending order\n",
    "np.random.seed(22)\n",
    "n2 = np.random.randint(0,100,10)\n",
    "#Method1 = \n",
    "n2 = -np.sort(-n2)\n",
    "#n2 = np.sort(n2)[::-1]\n",
    "n2"
   ]
  },
  {
   "cell_type": "code",
   "execution_count": 81,
   "id": "d4e3f0fc",
   "metadata": {},
   "outputs": [
    {
     "data": {
      "text/plain": [
       "array([ 3, 11, 22, 44, 56, 66])"
      ]
     },
     "execution_count": 81,
     "metadata": {},
     "output_type": "execute_result"
    }
   ],
   "source": [
    "#8 take an array, find out unique values in it\n",
    "n3 = np.array([11,3,22,56,44,11,22,66,44])\n",
    "n4 = np.unique(n3)\n",
    "n4"
   ]
  },
  {
   "cell_type": "code",
   "execution_count": 28,
   "id": "3fbb1787",
   "metadata": {},
   "outputs": [],
   "source": [
    "#9 solve question 1 from mid term. Take two 3x2 matrices ..."
   ]
  },
  {
   "cell_type": "code",
   "execution_count": 93,
   "id": "49db5041",
   "metadata": {},
   "outputs": [],
   "source": [
    "#10 create a function which accepts a value and returns its square and cube as a tuple\n",
    "def sq_cub_tup(num):\n",
    "    return num**2,num**3"
   ]
  },
  {
   "cell_type": "code",
   "execution_count": 95,
   "id": "33a1a941-238c-4d6e-a2a5-9f34dcadd2a9",
   "metadata": {},
   "outputs": [
    {
     "name": "stdout",
     "output_type": "stream",
     "text": [
      "(9, 27)\n",
      "<class 'tuple'>\n"
     ]
    }
   ],
   "source": [
    "f1 = sq_cub_tup(3)\n",
    "print(f1)\n",
    "print(type(f1))"
   ]
  },
  {
   "cell_type": "code",
   "execution_count": 101,
   "id": "62bff626",
   "metadata": {},
   "outputs": [],
   "source": [
    "#11 modify the function to return a list\n",
    "def sq_cub_lst(num):\n",
    "    return [num**2,num**3]"
   ]
  },
  {
   "cell_type": "code",
   "execution_count": 103,
   "id": "8d0e6788-78d2-4413-9ca8-3b23fd9619e3",
   "metadata": {},
   "outputs": [
    {
     "name": "stdout",
     "output_type": "stream",
     "text": [
      "[9, 27]\n",
      "<class 'list'>\n"
     ]
    }
   ],
   "source": [
    "f2 = sq_cub_lst(3)\n",
    "print(f2)\n",
    "print(type(f2))"
   ]
  },
  {
   "cell_type": "code",
   "execution_count": 11,
   "id": "96d710b7",
   "metadata": {},
   "outputs": [],
   "source": [
    "#12 modify the function to return an array\n",
    "def sq_cub_arr(num):\n",
    "    n1 =  np.array([num**2,num**3])\n",
    "    print(n1.shape())\n",
    "    return n1"
   ]
  },
  {
   "cell_type": "code",
   "execution_count": 39,
   "id": "48a52065",
   "metadata": {},
   "outputs": [],
   "source": [
    "#13 Given y = 4 * (x**3) - 0.5*(x**2) + 7*x - 4\n",
    "# create a function to return square of a given number. another function to create cube of a given number. \n",
    "# use these functions to calculate y given a number"
   ]
  },
  {
   "cell_type": "code",
   "execution_count": 111,
   "id": "4d2c15eb",
   "metadata": {},
   "outputs": [
    {
     "name": "stdout",
     "output_type": "stream",
     "text": [
      "1392.5\n"
     ]
    }
   ],
   "source": [
    "def sqr(num):\n",
    "    return num**2\n",
    "def cub(num):\n",
    "    return num**3\n",
    "x = 7\n",
    "y = 4 * (cub(x)) - 0.5 * sqr(x) + 7*x - 4\n",
    "print(y)\n"
   ]
  },
  {
   "cell_type": "code",
   "execution_count": 144,
   "id": "767b35b8",
   "metadata": {},
   "outputs": [],
   "source": [
    "#14 create a function which calculates factorial of a given number\n",
    "def factorial(n):\n",
    "    fact = 1\n",
    "    l=[]\n",
    "    for i in range(1,n+1):\n",
    "        fact = fact*i\n",
    "        l.append(fact)\n",
    "    print(np.array(l))\n",
    "    return fact"
   ]
  },
  {
   "cell_type": "code",
   "execution_count": 146,
   "id": "01b910aa-6171-41b5-a8c5-d891c0e566cd",
   "metadata": {},
   "outputs": [
    {
     "name": "stdout",
     "output_type": "stream",
     "text": [
      "[  1   2   6  24 120]\n"
     ]
    },
    {
     "data": {
      "text/plain": [
       "120"
      ]
     },
     "execution_count": 146,
     "metadata": {},
     "output_type": "execute_result"
    }
   ],
   "source": [
    "factorial(5)"
   ]
  },
  {
   "cell_type": "code",
   "execution_count": 156,
   "id": "6142ce0f",
   "metadata": {},
   "outputs": [
    {
     "name": "stdout",
     "output_type": "stream",
     "text": [
      "Covarience is [[41.5  36.75]\n",
      " [36.75 64.3 ]]\n",
      "Correlation is [831]\n"
     ]
    }
   ],
   "source": [
    "#15 generate two arrays:\n",
    "mat1 = np.random.randint(1,20,5)\n",
    "mat2 = np.random.randint(0,25,5)\n",
    "cov = np.cov(mat1,mat2)\n",
    "corr = np.correlate(mat1,mat2)\n",
    "print('Covarience is',cov)\n",
    "print('Correlation is',corr)\n",
    "#calculate their covariance and correlation using numpy methods\n",
    "#calculate from scratch and compare values."
   ]
  },
  {
   "cell_type": "code",
   "execution_count": 154,
   "id": "3cea53f3",
   "metadata": {},
   "outputs": [],
   "source": [
    "#16 generate a 5 x 3 matrix and calculate covariance using numpy .cov. \n",
    "# For one element in the principal diagonal and one other element calculate from scratch and compare values."
   ]
  },
  {
   "cell_type": "code",
   "execution_count": 170,
   "id": "df987062",
   "metadata": {},
   "outputs": [
    {
     "name": "stdout",
     "output_type": "stream",
     "text": [
      "The marix is: [[ 6  7 11]\n",
      " [ 7 13  5]\n",
      " [12  9  2]]\n",
      "The inverse is: [[ 0.02331288 -0.10429448  0.13251534]\n",
      " [-0.05644172  0.14723926 -0.05766871]\n",
      " [ 0.11411043 -0.03680982 -0.03558282]]\n"
     ]
    }
   ],
   "source": [
    "#17 create a 3x3 matrix, get its inverse. Verify if numpy calculated the inverse correctly.\n",
    "mat3 = np.random.randint(1,20,9).reshape(3,3)\n",
    "print('The marix is:', mat3)\n",
    "inv = np.linalg.inv(mat3)\n",
    "print('The inverse is:',inv)"
   ]
  },
  {
   "cell_type": "code",
   "execution_count": 186,
   "id": "58c47b1a-eb9c-47c1-919d-6bd3c149e0af",
   "metadata": {},
   "outputs": [
    {
     "name": "stdout",
     "output_type": "stream",
     "text": [
      "0.0\n"
     ]
    }
   ],
   "source": [
    "mat4 = np.array([[ 1,2,3],[ 3,6,9],[-2,-4,-6]])\n",
    "print(np.linalg.det(mat4))                      #Determinant is zero"
   ]
  },
  {
   "cell_type": "code",
   "execution_count": 188,
   "id": "93354357",
   "metadata": {},
   "outputs": [
    {
     "ename": "LinAlgError",
     "evalue": "Singular matrix",
     "output_type": "error",
     "traceback": [
      "\u001b[1;31m---------------------------------------------------------------------------\u001b[0m",
      "\u001b[1;31mLinAlgError\u001b[0m                               Traceback (most recent call last)",
      "Cell \u001b[1;32mIn[188], line 3\u001b[0m\n\u001b[0;32m      1\u001b[0m \u001b[38;5;66;03m#18 in a matrix if one row is a scalar product of another row then it cannot be inverted. take an example and verify.\u001b[39;00m\n\u001b[1;32m----> 3\u001b[0m inv1 \u001b[38;5;241m=\u001b[39m np\u001b[38;5;241m.\u001b[39mlinalg\u001b[38;5;241m.\u001b[39minv(mat4)\n\u001b[0;32m      4\u001b[0m inv1\n",
      "File \u001b[1;32m~\\anaconda\\Lib\\site-packages\\numpy\\linalg\\linalg.py:561\u001b[0m, in \u001b[0;36minv\u001b[1;34m(a)\u001b[0m\n\u001b[0;32m    559\u001b[0m signature \u001b[38;5;241m=\u001b[39m \u001b[38;5;124m'\u001b[39m\u001b[38;5;124mD->D\u001b[39m\u001b[38;5;124m'\u001b[39m \u001b[38;5;28;01mif\u001b[39;00m isComplexType(t) \u001b[38;5;28;01melse\u001b[39;00m \u001b[38;5;124m'\u001b[39m\u001b[38;5;124md->d\u001b[39m\u001b[38;5;124m'\u001b[39m\n\u001b[0;32m    560\u001b[0m extobj \u001b[38;5;241m=\u001b[39m get_linalg_error_extobj(_raise_linalgerror_singular)\n\u001b[1;32m--> 561\u001b[0m ainv \u001b[38;5;241m=\u001b[39m _umath_linalg\u001b[38;5;241m.\u001b[39minv(a, signature\u001b[38;5;241m=\u001b[39msignature, extobj\u001b[38;5;241m=\u001b[39mextobj)\n\u001b[0;32m    562\u001b[0m \u001b[38;5;28;01mreturn\u001b[39;00m wrap(ainv\u001b[38;5;241m.\u001b[39mastype(result_t, copy\u001b[38;5;241m=\u001b[39m\u001b[38;5;28;01mFalse\u001b[39;00m))\n",
      "File \u001b[1;32m~\\anaconda\\Lib\\site-packages\\numpy\\linalg\\linalg.py:112\u001b[0m, in \u001b[0;36m_raise_linalgerror_singular\u001b[1;34m(err, flag)\u001b[0m\n\u001b[0;32m    111\u001b[0m \u001b[38;5;28;01mdef\u001b[39;00m \u001b[38;5;21m_raise_linalgerror_singular\u001b[39m(err, flag):\n\u001b[1;32m--> 112\u001b[0m     \u001b[38;5;28;01mraise\u001b[39;00m LinAlgError(\u001b[38;5;124m\"\u001b[39m\u001b[38;5;124mSingular matrix\u001b[39m\u001b[38;5;124m\"\u001b[39m)\n",
      "\u001b[1;31mLinAlgError\u001b[0m: Singular matrix"
     ]
    }
   ],
   "source": [
    "#18 in a matrix if one row is a scalar product of another row then it cannot be inverted. take an example and verify.\n",
    "\n",
    "inv1 = np.linalg.inv(mat4)\n",
    "inv1"
   ]
  },
  {
   "cell_type": "code",
   "execution_count": 21,
   "id": "0a8f6131",
   "metadata": {},
   "outputs": [
    {
     "name": "stdout",
     "output_type": "stream",
     "text": [
      "Inverse is:  [[ 0.24427481  0.09923664 -0.09160305]\n",
      " [ 0.06870229 -0.19083969  0.09923664]\n",
      " [-0.18320611  0.17557252  0.06870229]]\n",
      "AI is: [[4. 3. 1.]\n",
      " [3. 0. 4.]\n",
      " [3. 8. 7.]]\n",
      "transpose is: [[4 3 3]\n",
      " [3 0 8]\n",
      " [1 4 7]]\n"
     ]
    }
   ],
   "source": [
    "#19 Create a square matrix A, A.I is its inverse. A.T is its tranpose. Find out the relationship between A.T.I and A.I.\n",
    "# A is non singular, i.e. it is invertible.\n",
    "np.random.seed(44)\n",
    "A = np.random.randint(0,10,9).reshape(3,3)\n",
    "I = np.eye(3)\n",
    "if np.linalg.det(A) !=0:\n",
    "    inv = np.linalg.inv(A)\n",
    "    AI = np.dot(A,I)\n",
    "    tran = np.transpose(A)\n",
    "\n",
    "else:\n",
    "    print('Det is zero')\n",
    "\n",
    "print('Inverse is: ',inv)\n",
    "print('AI is:',AI)\n",
    "print('transpose is:',tran)\n",
    "\n",
    "\n"
   ]
  },
  {
   "cell_type": "code",
   "execution_count": 23,
   "id": "a1ff0264-e1e6-4bfe-88f0-031056705e95",
   "metadata": {},
   "outputs": [
    {
     "name": "stdout",
     "output_type": "stream",
     "text": [
      "Checking Transpose Law\n",
      "Transposed to Transposed Array is: [[4 3 1]\n",
      " [3 0 4]\n",
      " [3 8 7]]\n",
      "Original Array is: [[4 3 1]\n",
      " [3 0 4]\n",
      " [3 8 7]]\n"
     ]
    }
   ],
   "source": [
    "#(AT)T = A\n",
    "print(\"Checking Transpose Law\")\n",
    "tt = np.transpose(tran)\n",
    "print('Transposed to Transposed Array is:',tt)\n",
    "print('Original Array is:',A)"
   ]
  },
  {
   "cell_type": "code",
   "execution_count": 31,
   "id": "c3039359-1cf8-46a7-9777-8a7eefe42ad5",
   "metadata": {},
   "outputs": [
    {
     "name": "stdout",
     "output_type": "stream",
     "text": [
      "tran == A\n"
     ]
    }
   ],
   "source": [
    "if tt.all() == A.all():\n",
    "    print('tran == A')\n",
    "else:\n",
    "    print('No')                            #Why this not working"
   ]
  },
  {
   "cell_type": "code",
   "execution_count": 222,
   "id": "5fb59deb",
   "metadata": {},
   "outputs": [
    {
     "name": "stdout",
     "output_type": "stream",
     "text": [
      "Original Matrix: [[30 31  3]\n",
      " [14  4 13]\n",
      " [47  4 11]\n",
      " [10 43 38]\n",
      " [36 12  8]]\n",
      "Swapped Columns: [[31  3 30]\n",
      " [ 4 13 14]\n",
      " [ 4 11 47]\n",
      " [43 38 10]\n",
      " [12  8 36]]\n"
     ]
    }
   ],
   "source": [
    "#20 consider a 5 x 3 matrix. Let its columns be C1,C2 and C3.Can you switch them to it is now C2,C3 and C1?\n",
    "mat5 = np.random.randint(2,50,15).reshape(5,3)\n",
    "print('Original Matrix:',mat5)\n",
    "mat6 = np.roll(mat5,2,axis=1)\n",
    "print('Swapped Columns:',mat6)"
   ]
  },
  {
   "cell_type": "code",
   "execution_count": 37,
   "id": "f16e5859",
   "metadata": {},
   "outputs": [
    {
     "name": "stdout",
     "output_type": "stream",
     "text": [
      "The matrix is: [-1 -2 -4  8  6 -2 -5 -1 -2  5]\n",
      "Total Positive numbers are: 3\n",
      "Total negative numbers are: 7\n",
      "Total zeros are: 0\n"
     ]
    }
   ],
   "source": [
    "#21 take an array of 10 elements, count the number of positive values\n",
    "np.random.seed(44)\n",
    "mat7=np.random.randint(-5,10,10)\n",
    "print('The matrix is:',mat7)\n",
    "pos = 0\n",
    "neg = 0\n",
    "zero = 0\n",
    "for i in mat7:\n",
    "    if i>0:\n",
    "        pos = pos+1\n",
    "    elif i<0:\n",
    "        neg = neg+1\n",
    "    else:\n",
    "        zero = zero+1\n",
    "print('Total Positive numbers are:',pos)\n",
    "print('Total negative numbers are:',neg)\n",
    "print('Total zeros are:',zero)\n",
    "        "
   ]
  },
  {
   "cell_type": "code",
   "execution_count": 236,
   "id": "43c36b27-2d25-4542-bdac-28442a830d40",
   "metadata": {},
   "outputs": [
    {
     "data": {
      "text/plain": [
       "3"
      ]
     },
     "execution_count": 236,
     "metadata": {},
     "output_type": "execute_result"
    }
   ],
   "source": [
    "np.sum(mat7>0)  "
   ]
  },
  {
   "cell_type": "code",
   "execution_count": 246,
   "id": "9d829558-bb2c-4acd-af42-18b692916e07",
   "metadata": {},
   "outputs": [
    {
     "data": {
      "text/plain": [
       "3"
      ]
     },
     "execution_count": 246,
     "metadata": {},
     "output_type": "execute_result"
    }
   ],
   "source": [
    "len(mat7[mat7>0])"
   ]
  },
  {
   "cell_type": "code",
   "execution_count": 43,
   "id": "2887ef80",
   "metadata": {},
   "outputs": [
    {
     "name": "stdout",
     "output_type": "stream",
     "text": [
      "The matrix is: [-1 -2 -4  8  6 -2 -5 -1 -2  5]\n"
     ]
    },
    {
     "ename": "TypeError",
     "evalue": "only integer scalar arrays can be converted to a scalar index",
     "output_type": "error",
     "traceback": [
      "\u001b[1;31m---------------------------------------------------------------------------\u001b[0m",
      "\u001b[1;31mTypeError\u001b[0m                                 Traceback (most recent call last)",
      "Cell \u001b[1;32mIn[43], line 8\u001b[0m\n\u001b[0;32m      6\u001b[0m neg \u001b[38;5;241m=\u001b[39m \u001b[38;5;241m0\u001b[39m\n\u001b[0;32m      7\u001b[0m zero \u001b[38;5;241m=\u001b[39m \u001b[38;5;241m0\u001b[39m\n\u001b[1;32m----> 8\u001b[0m \u001b[38;5;28;01mfor\u001b[39;00m i,j \u001b[38;5;129;01min\u001b[39;00m \u001b[38;5;28mrange\u001b[39m(mat7):\n\u001b[0;32m      9\u001b[0m     \u001b[38;5;28;01mif\u001b[39;00m mat7[i,j]\u001b[38;5;241m>\u001b[39m\u001b[38;5;241m0\u001b[39m:\n\u001b[0;32m     10\u001b[0m         pos \u001b[38;5;241m=\u001b[39m pos\u001b[38;5;241m+\u001b[39m\u001b[38;5;241m1\u001b[39m\n",
      "\u001b[1;31mTypeError\u001b[0m: only integer scalar arrays can be converted to a scalar index"
     ]
    }
   ],
   "source": [
    "#22 take a matrix of 5x5, count the positive values.\n",
    "np.random.seed(44)\n",
    "mat8=np.random.randint(-20,20,25).reshape(5,5)\n",
    "print('The matrix is:',mat7)\n",
    "pos = 0\n",
    "neg = 0\n",
    "zero = 0\n",
    "for i,j in range(mat7):\n",
    "    if mat7[i,j]>0:\n",
    "        pos = pos+1\n",
    "    elif mat7[i,j]<0:\n",
    "        neg = neg+1\n",
    "    else:\n",
    "        zero = zero+1\n",
    "print('Total Positive numbers are:',pos)\n",
    "print('Total negative numbers are:',neg)\n",
    "print('Total zeros are:',zero)"
   ]
  },
  {
   "cell_type": "code",
   "execution_count": 242,
   "id": "1abc70ad-e297-4ee2-958d-bbdef0fc4436",
   "metadata": {},
   "outputs": [
    {
     "data": {
      "text/plain": [
       "14"
      ]
     },
     "execution_count": 242,
     "metadata": {},
     "output_type": "execute_result"
    }
   ],
   "source": [
    "np.random.seed(44)\n",
    "mat8=np.random.randint(-20,20,25).reshape(5,5)\n",
    "len(mat8[mat8>0])"
   ]
  },
  {
   "cell_type": "code",
   "execution_count": 244,
   "id": "baaf6e4d-0153-40ed-87a9-dd31306e4d01",
   "metadata": {},
   "outputs": [
    {
     "data": {
      "text/plain": [
       "14"
      ]
     },
     "execution_count": 244,
     "metadata": {},
     "output_type": "execute_result"
    }
   ],
   "source": [
    "np.sum(mat8>0)"
   ]
  },
  {
   "cell_type": "markdown",
   "id": "b82938d3-f69d-45c1-ba59-1a931563df85",
   "metadata": {},
   "source": [
    "## IMP"
   ]
  },
  {
   "cell_type": "code",
   "execution_count": 256,
   "id": "5a094548",
   "metadata": {},
   "outputs": [
    {
     "name": "stdout",
     "output_type": "stream",
     "text": [
      "Vector u: [1 2 3 4 5]\n",
      "Vector v: [5 4 3 2 1]\n",
      "Norm of u: 7.416198487095663\n",
      "Norm of v: 7.416198487095663\n",
      "Dot product of u and v: 35\n",
      "Angle between u and v (degrees): 50.47880364135783\n"
     ]
    }
   ],
   "source": [
    "#23 create two vectors of 5 dimensions, u and v. \n",
    "# calculate their norms\n",
    "# calculate their dotproduct\n",
    "# calculate the angle between them in degrees\n",
    "u = np.array([1, 2, 3, 4, 5])\n",
    "v = np.array([5, 4, 3, 2, 1])\n",
    "normu = np.linalg.norm(u)\n",
    "normv = np.linalg.norm(v)\n",
    "dp = np.dot(u, v)\n",
    "\n",
    "cos_theta = dp/ (normu * normv)\n",
    "angle_radians = np.arccos(np.clip(cos_theta, -1.0, 1.0))\n",
    "angle_degrees = np.degrees(angle_radians)\n",
    "print(\"Vector u:\", u)\n",
    "print(\"Vector v:\", v)\n",
    "print(\"Norm of u:\", normu)\n",
    "print(\"Norm of v:\", normv)\n",
    "print(\"Dot product of u and v:\", dp)\n",
    "print(\"Angle between u and v (degrees):\", angle_degrees)\n"
   ]
  },
  {
   "cell_type": "code",
   "execution_count": null,
   "id": "39be5120-3eee-4358-9663-d372d6efe1f0",
   "metadata": {},
   "outputs": [],
   "source": []
  }
 ],
 "metadata": {
  "kernelspec": {
   "display_name": "Python 3 (ipykernel)",
   "language": "python",
   "name": "python3"
  },
  "language_info": {
   "codemirror_mode": {
    "name": "ipython",
    "version": 3
   },
   "file_extension": ".py",
   "mimetype": "text/x-python",
   "name": "python",
   "nbconvert_exporter": "python",
   "pygments_lexer": "ipython3",
   "version": "3.12.4"
  }
 },
 "nbformat": 4,
 "nbformat_minor": 5
}
