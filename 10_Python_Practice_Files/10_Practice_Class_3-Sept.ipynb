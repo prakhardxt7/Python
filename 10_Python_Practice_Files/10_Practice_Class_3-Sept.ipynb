{
 "cells": [
  {
   "cell_type": "code",
   "execution_count": 1,
   "id": "c9391456-0982-47ad-983c-8b538e6546fa",
   "metadata": {},
   "outputs": [],
   "source": [
    "import pandas as pd \n",
    "import numpy as np"
   ]
  },
  {
   "cell_type": "code",
   "execution_count": 9,
   "id": "4fd27e56-0c0d-4339-b05e-1fd20e5920c3",
   "metadata": {},
   "outputs": [],
   "source": [
    "def text_prt(s):\n",
    "    if type(s)!=str:\n",
    "        return 'Invalid'\n",
    "    return s"
   ]
  },
  {
   "cell_type": "code",
   "execution_count": 13,
   "id": "ee12be63-e706-4d1a-b20a-17c862bb1be0",
   "metadata": {},
   "outputs": [
    {
     "data": {
      "text/plain": [
       "'Invalid'"
      ]
     },
     "execution_count": 13,
     "metadata": {},
     "output_type": "execute_result"
    }
   ],
   "source": [
    "text_prt(1)"
   ]
  },
  {
   "cell_type": "code",
   "execution_count": 15,
   "id": "1d36bcf4-cc49-4196-bd41-ed7282677eac",
   "metadata": {},
   "outputs": [
    {
     "data": {
      "text/plain": [
       "'hi'"
      ]
     },
     "execution_count": 15,
     "metadata": {},
     "output_type": "execute_result"
    }
   ],
   "source": [
    "text_prt('hi')"
   ]
  },
  {
   "cell_type": "code",
   "execution_count": 17,
   "id": "8acada3c-2674-4e88-803f-f550019a26c9",
   "metadata": {},
   "outputs": [],
   "source": [
    "def yo():\n",
    "    return 'yo!'"
   ]
  },
  {
   "cell_type": "code",
   "execution_count": 19,
   "id": "8989b347-bcb4-416f-9089-1baaf91c63d0",
   "metadata": {},
   "outputs": [
    {
     "data": {
      "text/plain": [
       "'yo!'"
      ]
     },
     "execution_count": 19,
     "metadata": {},
     "output_type": "execute_result"
    }
   ],
   "source": [
    "yo()"
   ]
  },
  {
   "cell_type": "code",
   "execution_count": 27,
   "id": "ef17833d-ac46-4485-8ef3-0c89dba1d727",
   "metadata": {},
   "outputs": [],
   "source": [
    "def str_con(s1,s2):\n",
    "    if type(s1)!=str or type(s2)!=str:\n",
    "        return 'Invalid'\n",
    "    return f'{s1} {s2}'"
   ]
  },
  {
   "cell_type": "code",
   "execution_count": 29,
   "id": "4deb7ed1-f25b-4864-81e9-6557647b3536",
   "metadata": {},
   "outputs": [
    {
     "data": {
      "text/plain": [
       "'hi world'"
      ]
     },
     "execution_count": 29,
     "metadata": {},
     "output_type": "execute_result"
    }
   ],
   "source": [
    "str_con('hi','world')"
   ]
  },
  {
   "cell_type": "code",
   "execution_count": 31,
   "id": "cca9b2cf-6c3b-415a-8b5a-a2277921a42f",
   "metadata": {},
   "outputs": [
    {
     "data": {
      "text/plain": [
       "'Invalid'"
      ]
     },
     "execution_count": 31,
     "metadata": {},
     "output_type": "execute_result"
    }
   ],
   "source": [
    "str_con(1,'hi')"
   ]
  },
  {
   "cell_type": "code",
   "execution_count": 33,
   "id": "f9dd02a5-433a-45e4-b3ca-da730d47c716",
   "metadata": {},
   "outputs": [
    {
     "data": {
      "text/plain": [
       "'Invalid'"
      ]
     },
     "execution_count": 33,
     "metadata": {},
     "output_type": "execute_result"
    }
   ],
   "source": [
    "str_con('hi',1)"
   ]
  },
  {
   "cell_type": "code",
   "execution_count": 39,
   "id": "0608872d-9652-4be8-a11b-2078fe7c9ab7",
   "metadata": {},
   "outputs": [],
   "source": [
    "def sq_sqrt(n):\n",
    "    print(f'The Square of {n} is:{n**2}')\n",
    "    print(f'The Square_Root of {n} is:{n**(1/2)}')"
   ]
  },
  {
   "cell_type": "code",
   "execution_count": 41,
   "id": "1c1690ac-d527-4a66-9801-8b97ea060096",
   "metadata": {},
   "outputs": [
    {
     "name": "stdout",
     "output_type": "stream",
     "text": [
      "The Square of 4 is:16\n",
      "The Square_Root of 4 is:2.0\n"
     ]
    }
   ],
   "source": [
    "sq_sqrt(4)"
   ]
  },
  {
   "cell_type": "code",
   "execution_count": 61,
   "id": "6ed884a8-25b8-48b5-a582-721ee99b6d1d",
   "metadata": {},
   "outputs": [],
   "source": [
    "def mmm(n):\n",
    "    print('Mean is',np.mean(n))\n",
    "    print('Median is',np.median(n))\n",
    "    print('Min is',np.min(n))\n",
    "    print('Max is',np.max(n))\n",
    "    #print(np.mode(n))"
   ]
  },
  {
   "cell_type": "code",
   "execution_count": 63,
   "id": "75fbb82c-53d1-493e-9cb9-1bf9426e0e3b",
   "metadata": {},
   "outputs": [
    {
     "name": "stdout",
     "output_type": "stream",
     "text": [
      "Mean is 19.166666666666668\n",
      "Median is 3.5\n",
      "Min is 1\n",
      "Max is 100\n"
     ]
    }
   ],
   "source": [
    "mmm(np.array([1,2,3,4,5,100]))"
   ]
  },
  {
   "cell_type": "code",
   "execution_count": 67,
   "id": "3530664c-490c-488e-a21c-52c6e7f1328e",
   "metadata": {},
   "outputs": [],
   "source": [
    "def calling(n,m=1):\n",
    "    print('m is',m)\n",
    "    print('n is',n)"
   ]
  },
  {
   "cell_type": "code",
   "execution_count": 71,
   "id": "fcc60400-c0e0-425d-bc5d-efe55d04aeb8",
   "metadata": {},
   "outputs": [
    {
     "name": "stdout",
     "output_type": "stream",
     "text": [
      "m is 1\n",
      "n is Hello\n"
     ]
    }
   ],
   "source": [
    "calling('Hello')"
   ]
  },
  {
   "cell_type": "code",
   "execution_count": 94,
   "id": "07350038-10ef-478b-a867-5a44fa6c55e8",
   "metadata": {},
   "outputs": [
    {
     "name": "stdout",
     "output_type": "stream",
     "text": [
      "m is 26\n",
      "n is 22\n"
     ]
    }
   ],
   "source": [
    "calling(22,26)"
   ]
  },
  {
   "cell_type": "code",
   "execution_count": 77,
   "id": "e54cf002-9fc7-46ce-b8c3-be2b1daa6701",
   "metadata": {},
   "outputs": [],
   "source": [
    "def one_by_one(n):\n",
    "    for i in str(n):\n",
    "        print(i)"
   ]
  },
  {
   "cell_type": "code",
   "execution_count": 79,
   "id": "d1487d72-fe05-403b-9861-a34337699c33",
   "metadata": {},
   "outputs": [
    {
     "name": "stdout",
     "output_type": "stream",
     "text": [
      "2\n",
      "3\n",
      "3\n",
      "2\n",
      "2\n"
     ]
    }
   ],
   "source": [
    "one_by_one(23322)"
   ]
  },
  {
   "cell_type": "code",
   "execution_count": null,
   "id": "4e05b926-0608-4acf-bb60-3d34f3e0513c",
   "metadata": {},
   "outputs": [],
   "source": []
  },
  {
   "cell_type": "code",
   "execution_count": 81,
   "id": "9bdd2c14-767f-40c3-b272-ed118fcd2652",
   "metadata": {},
   "outputs": [
    {
     "name": "stdout",
     "output_type": "stream",
     "text": [
      "H\n",
      "e\n",
      "l\n",
      "l\n",
      "o\n"
     ]
    }
   ],
   "source": [
    "one_by_one('Hello')"
   ]
  },
  {
   "cell_type": "code",
   "execution_count": 87,
   "id": "935f10f4-87df-432c-b49e-767e8e228389",
   "metadata": {},
   "outputs": [],
   "source": [
    "def one_by_one_Vars(*n):\n",
    "    for i in n:\n",
    "        print(i)"
   ]
  },
  {
   "cell_type": "code",
   "execution_count": 91,
   "id": "30ab1da7-a1da-44df-bbef-684acfdc0b1a",
   "metadata": {},
   "outputs": [
    {
     "name": "stdout",
     "output_type": "stream",
     "text": [
      "1\n",
      "2\n",
      "Hello\n",
      "55\n",
      "World\n"
     ]
    }
   ],
   "source": [
    "one_by_one_Vars(1,2,'Hello',55,\"World\")"
   ]
  },
  {
   "cell_type": "code",
   "execution_count": 102,
   "id": "74ebaa99-e638-4b50-9507-77eea2a45eb2",
   "metadata": {},
   "outputs": [],
   "source": [
    "def course_stu(name,course,marks):\n",
    "    return f'Hi! {name} you have scored {marks} and enrolled to {course} course!'"
   ]
  },
  {
   "cell_type": "code",
   "execution_count": 104,
   "id": "1b2d81f2-e046-47ef-bdf2-b29d2b65aabd",
   "metadata": {},
   "outputs": [
    {
     "data": {
      "text/plain": [
       "'Hi! Prakhar you have scored 90 and enrolled to PGP course!'"
      ]
     },
     "execution_count": 104,
     "metadata": {},
     "output_type": "execute_result"
    }
   ],
   "source": [
    "course_stu('Prakhar','PGP',90)"
   ]
  },
  {
   "cell_type": "code",
   "execution_count": 128,
   "id": "5819bfe6-4b93-4800-9d2f-3a556bde5ae0",
   "metadata": {},
   "outputs": [],
   "source": [
    "def course_dict(**kwargs):\n",
    "    print(kwargs)\n",
    "    for key,values in kwargs.items():\n",
    "        print(values)\n",
    "        print(key)\n",
    "    "
   ]
  },
  {
   "cell_type": "code",
   "execution_count": 130,
   "id": "1fa0fde0-b791-4a42-958a-29afce8e70a2",
   "metadata": {},
   "outputs": [
    {
     "name": "stdout",
     "output_type": "stream",
     "text": [
      "{'Name': 'Prakhar', 'Marks': 90, 'Course': 'PGP'}\n",
      "Prakhar\n",
      "Name\n",
      "90\n",
      "Marks\n",
      "PGP\n",
      "Course\n"
     ]
    }
   ],
   "source": [
    "course_dict(Name='Prakhar',Marks=90,Course='PGP')"
   ]
  },
  {
   "cell_type": "code",
   "execution_count": null,
   "id": "e7fbec64-9d8b-476c-89e8-fe909dd99c76",
   "metadata": {},
   "outputs": [],
   "source": []
  }
 ],
 "metadata": {
  "kernelspec": {
   "display_name": "Python 3 (ipykernel)",
   "language": "python",
   "name": "python3"
  },
  "language_info": {
   "codemirror_mode": {
    "name": "ipython",
    "version": 3
   },
   "file_extension": ".py",
   "mimetype": "text/x-python",
   "name": "python",
   "nbconvert_exporter": "python",
   "pygments_lexer": "ipython3",
   "version": "3.12.4"
  }
 },
 "nbformat": 4,
 "nbformat_minor": 5
}
