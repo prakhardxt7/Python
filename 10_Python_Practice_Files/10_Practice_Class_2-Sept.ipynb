{
 "cells": [
  {
   "cell_type": "markdown",
   "id": "b49a5ab6-9899-4bb9-83c6-02d9ebdfff67",
   "metadata": {},
   "source": [
    "1. Create a float/num and convert it to a string"
   ]
  },
  {
   "cell_type": "code",
   "execution_count": null,
   "id": "dc0b1564-9338-4a13-a699-5c14ef9fc993",
   "metadata": {},
   "outputs": [],
   "source": [
    "num = 22.5155"
   ]
  },
  {
   "cell_type": "code",
   "execution_count": null,
   "id": "e98c1424-50d4-4b77-b1f7-4aaadff43e85",
   "metadata": {},
   "outputs": [],
   "source": [
    "type(num)"
   ]
  },
  {
   "cell_type": "code",
   "execution_count": null,
   "id": "e1065495-e9dc-4ed1-8010-77de8934eaf7",
   "metadata": {},
   "outputs": [],
   "source": [
    "s = str(num)"
   ]
  },
  {
   "cell_type": "code",
   "execution_count": null,
   "id": "ad20dfe2-e606-40e8-9c0a-de083cb84d0a",
   "metadata": {},
   "outputs": [],
   "source": [
    "s"
   ]
  },
  {
   "cell_type": "code",
   "execution_count": null,
   "id": "a4d9ac8e-0485-40a6-86bf-d7a6835b133b",
   "metadata": {},
   "outputs": [],
   "source": [
    "l=[]\n",
    "for i in range(0,len(s)):\n",
    "    if s[i]=='.':\n",
    "        s1 = s[i+1:]\n",
    "s2 = s1.split(\"\")\n",
    "print(len(s2))\n",
    "print(s1)              "
   ]
  },
  {
   "cell_type": "code",
   "execution_count": null,
   "id": "47f7582c-dbe4-4910-84bb-e085ccc2e1d5",
   "metadata": {},
   "outputs": [],
   "source": [
    "s1.split('')"
   ]
  },
  {
   "cell_type": "code",
   "execution_count": null,
   "id": "dcd17e38-5452-45ea-b29a-03791f2a06d0",
   "metadata": {},
   "outputs": [],
   "source": []
  },
  {
   "cell_type": "code",
   "execution_count": 1,
   "id": "2555c2a7-f28f-43da-a815-9b170e71d092",
   "metadata": {},
   "outputs": [
    {
     "name": "stdout",
     "output_type": "stream",
     "text": [
      "Student Ram will stay in hostel castor\n"
     ]
    }
   ],
   "source": [
    "student_name = 'Ram'\n",
    "hostel_name = 'castor'\n",
    "print(f'Student {student_name} will stay in hostel {hostel_name}')"
   ]
  },
  {
   "cell_type": "code",
   "execution_count": null,
   "id": "dc7729f4-0e0b-4a1e-b866-ffd17b259071",
   "metadata": {},
   "outputs": [],
   "source": []
  },
  {
   "cell_type": "code",
   "execution_count": 5,
   "id": "3a1a5d36-cf6d-465d-9c21-eb833eb9c85a",
   "metadata": {},
   "outputs": [
    {
     "name": "stdout",
     "output_type": "stream",
     "text": [
      "Profit Earned!\n"
     ]
    }
   ],
   "source": [
    "Sales = 500\n",
    "Cost = 200\n",
    "if Sales>Cost:\n",
    "    print('Profit Earned!')\n",
    "elif Sales==Cost:\n",
    "    print('No Profit No Loss!')\n",
    "else:\n",
    "    print('Loss Earned!')"
   ]
  },
  {
   "cell_type": "code",
   "execution_count": 7,
   "id": "28d83591-0925-4a30-98e5-df74d708f57c",
   "metadata": {},
   "outputs": [
    {
     "name": "stdout",
     "output_type": "stream",
     "text": [
      "Quotient is: 10\n",
      "Reminder is: 1\n"
     ]
    }
   ],
   "source": [
    "n = 51\n",
    "m = 5\n",
    "print('Quotient is:',n//m)\n",
    "print('Reminder is:',n%m)"
   ]
  },
  {
   "cell_type": "code",
   "execution_count": 31,
   "id": "31f292b7-8268-475f-9eca-77368547d3fe",
   "metadata": {},
   "outputs": [
    {
     "name": "stdout",
     "output_type": "stream",
     "text": [
      "Maths is highest\n",
      "Order of Marks is:10,90,96\n"
     ]
    }
   ],
   "source": [
    "Physics = 90\n",
    "Chemistry = 10\n",
    "Maths = 96\n",
    "if Maths>Chemistry and Maths>Physics:\n",
    "    print('Maths is highest')\n",
    "    if Physics>Chemistry:\n",
    "        print(f'Order of Marks is:{Chemistry},{Physics},{Maths}')\n",
    "    else:\n",
    "        print(f'Order of Marks is:{Physics},{Chemistry},{Maths}')\n",
    "if Chemistry>Maths and Chemistry>Physics: \n",
    "    print('Chemistry is highest')\n",
    "    if Maths>Chemistry:\n",
    "        print(f'Order of Marks is:{Physics},{Maths},{Chemistry}')\n",
    "    else:\n",
    "        print(f'Order of Marks is:{Maths},{Physics},{Chemistry}')\n",
    "\n",
    "    \n",
    "if Physics>Maths and Physics>Chemistry:  \n",
    "    print('Physics is highest')\n",
    "    if Maths>Chemistry:\n",
    "        print(f'Order of Marks is:{Chemistry},{Maths},{Physics}')\n",
    "    else:\n",
    "        print(f'Order of Marks is:{Maths},{Chemistry},{Physics}')\n",
    "\n",
    "\n"
   ]
  },
  {
   "cell_type": "code",
   "execution_count": 91,
   "id": "3ec1ca9c-1b36-4a64-b4b3-7e2e52327ef3",
   "metadata": {},
   "outputs": [],
   "source": [
    "def vowel_or_cons(s):\n",
    "    l = 'aeiou'\n",
    "    if type(s)!=str:\n",
    "        \n",
    "        return 'Invalid'\n",
    "    if s.lower() in l:\n",
    "        print('Vowel')\n",
    "    else:\n",
    "        print('Consonent')"
   ]
  },
  {
   "cell_type": "code",
   "execution_count": 93,
   "id": "dd9944e9-868b-4294-800e-b9004ccf3a36",
   "metadata": {},
   "outputs": [
    {
     "data": {
      "text/plain": [
       "'Invalid'"
      ]
     },
     "execution_count": 93,
     "metadata": {},
     "output_type": "execute_result"
    }
   ],
   "source": [
    "vowel_or_cons(1)"
   ]
  },
  {
   "cell_type": "code",
   "execution_count": 54,
   "id": "a1c592bc-0b65-4f74-8e3d-521a5d7ba6a9",
   "metadata": {},
   "outputs": [
    {
     "name": "stdout",
     "output_type": "stream",
     "text": [
      "Consonent\n"
     ]
    }
   ],
   "source": [
    "vowel_or_cons('c')"
   ]
  },
  {
   "cell_type": "code",
   "execution_count": 57,
   "id": "4c794962-e9a1-4886-a69c-f7a39deb8151",
   "metadata": {},
   "outputs": [],
   "source": [
    "def pos_or_neg(n):\n",
    "    if n>=0:\n",
    "        return 'Positive'\n",
    "    else:\n",
    "        return 'Negative'"
   ]
  },
  {
   "cell_type": "code",
   "execution_count": 59,
   "id": "d0522dca-4001-458c-8ec9-58ec95984193",
   "metadata": {},
   "outputs": [
    {
     "data": {
      "text/plain": [
       "'Positive'"
      ]
     },
     "execution_count": 59,
     "metadata": {},
     "output_type": "execute_result"
    }
   ],
   "source": [
    "pos_or_neg(112)"
   ]
  },
  {
   "cell_type": "code",
   "execution_count": 61,
   "id": "136108d6-a2fe-4661-8136-629b4f84b412",
   "metadata": {},
   "outputs": [
    {
     "data": {
      "text/plain": [
       "'Negative'"
      ]
     },
     "execution_count": 61,
     "metadata": {},
     "output_type": "execute_result"
    }
   ],
   "source": [
    "pos_or_neg(-220)"
   ]
  },
  {
   "cell_type": "code",
   "execution_count": 75,
   "id": "c95624fa-2098-4ab1-81db-30234d375fa3",
   "metadata": {},
   "outputs": [],
   "source": [
    "def score_check(C1,C2,C3,C4,C5):\n",
    "    if C1>=40 and C2>=40 and C3>=40 and C4>=40 and C5>=40:\n",
    "        if (C1+C2+C3+C4+C5)/5 >=50:\n",
    "            print('Passed!')\n",
    "        else:\n",
    "            print('Failed! Overall not>50')\n",
    "    else:\n",
    "        print('Failed!')"
   ]
  },
  {
   "cell_type": "code",
   "execution_count": 71,
   "id": "f457825b-dc79-436e-88af-6e01c50b53e9",
   "metadata": {},
   "outputs": [
    {
     "name": "stdout",
     "output_type": "stream",
     "text": [
      "Passed!\n"
     ]
    }
   ],
   "source": [
    "score_check(51,63,56,50,74)"
   ]
  },
  {
   "cell_type": "code",
   "execution_count": 73,
   "id": "7ffaa6dc-403f-425d-85bf-2557550ec756",
   "metadata": {},
   "outputs": [
    {
     "name": "stdout",
     "output_type": "stream",
     "text": [
      "Failed!\n"
     ]
    }
   ],
   "source": [
    "score_check(51,25,38,98,76)"
   ]
  },
  {
   "cell_type": "code",
   "execution_count": 77,
   "id": "770497d0-28a8-40e7-bfd2-5d5c479c7636",
   "metadata": {},
   "outputs": [
    {
     "name": "stdout",
     "output_type": "stream",
     "text": [
      "Failed! Overall not>50\n"
     ]
    }
   ],
   "source": [
    "score_check(40,40,40,40,40)"
   ]
  },
  {
   "cell_type": "code",
   "execution_count": null,
   "id": "5add9674-cd8f-48d7-937d-d16f2a11de4d",
   "metadata": {},
   "outputs": [],
   "source": []
  },
  {
   "cell_type": "code",
   "execution_count": null,
   "id": "32d8d0bb-78ba-4105-b680-4a44abeec246",
   "metadata": {},
   "outputs": [],
   "source": []
  },
  {
   "cell_type": "code",
   "execution_count": 79,
   "id": "934c68db-e47a-43cf-bf0d-32b6ae179a34",
   "metadata": {},
   "outputs": [],
   "source": [
    "def odd_even(l):\n",
    "    if l%2==0:\n",
    "        return 'Even!'\n",
    "    else:\n",
    "        return 'Odd!'\n",
    "        "
   ]
  },
  {
   "cell_type": "code",
   "execution_count": 81,
   "id": "1496b710-e23c-4520-853b-830f143eba3c",
   "metadata": {},
   "outputs": [
    {
     "data": {
      "text/plain": [
       "'Even!'"
      ]
     },
     "execution_count": 81,
     "metadata": {},
     "output_type": "execute_result"
    }
   ],
   "source": [
    "odd_even(22)"
   ]
  },
  {
   "cell_type": "code",
   "execution_count": 83,
   "id": "fa7edc68-1c77-4642-aba7-a93e43d0092a",
   "metadata": {},
   "outputs": [
    {
     "data": {
      "text/plain": [
       "'Odd!'"
      ]
     },
     "execution_count": 83,
     "metadata": {},
     "output_type": "execute_result"
    }
   ],
   "source": [
    "odd_even(11)"
   ]
  },
  {
   "cell_type": "code",
   "execution_count": 157,
   "id": "86801d38-356d-4786-9e7a-13485c3d7f26",
   "metadata": {},
   "outputs": [],
   "source": [
    "import numpy as np\n",
    "def score_check(C1,C2,C3,C4,C5):\n",
    "    Marks_arr = np.array([C1,C2,C3,C4,C5])\n",
    "    Check = Marks_arr[Marks_arr>=40]\n",
    "    if Marks_arr.shape==Check.shape  and Marks_arr.mean()>=50:\n",
    "        print('Passed!')\n",
    "    else:\n",
    "        print('Failed!')\n"
   ]
  },
  {
   "cell_type": "code",
   "execution_count": 159,
   "id": "a2454535-dc04-4f63-bb2c-88aab5301aa8",
   "metadata": {},
   "outputs": [
    {
     "name": "stdout",
     "output_type": "stream",
     "text": [
      "Passed!\n"
     ]
    }
   ],
   "source": [
    "score_check(40,55,65,75,80)"
   ]
  },
  {
   "cell_type": "code",
   "execution_count": 161,
   "id": "d9fadec9-7035-4c92-a726-f911c2f79c1e",
   "metadata": {},
   "outputs": [
    {
     "name": "stdout",
     "output_type": "stream",
     "text": [
      "Failed!\n"
     ]
    }
   ],
   "source": [
    "score_check(30,55,65,75,80)"
   ]
  },
  {
   "cell_type": "code",
   "execution_count": 167,
   "id": "89aa9611-9a50-4cb9-8128-68e9ae244f40",
   "metadata": {},
   "outputs": [
    {
     "name": "stdout",
     "output_type": "stream",
     "text": [
      "Failed!\n"
     ]
    }
   ],
   "source": [
    "score_check(40,45,65,45,40)"
   ]
  },
  {
   "cell_type": "code",
   "execution_count": 155,
   "id": "29cb99af-0f65-4d64-bd9a-be74cb23c867",
   "metadata": {},
   "outputs": [
    {
     "name": "stdout",
     "output_type": "stream",
     "text": [
      "Passed!\n"
     ]
    }
   ],
   "source": [
    "Marks_arr = np.array([40,42,75,56,64])\n",
    "Check= Marks_arr[Marks_arr>=40]\n",
    "if Marks_arr.shape==Check.shape  and Marks_arr.mean()>=50:\n",
    "    print('Passed!')\n",
    "else:\n",
    "    print('Failed!')\n"
   ]
  },
  {
   "cell_type": "code",
   "execution_count": 103,
   "id": "49278860-bd78-4436-b860-ea17b90ecb71",
   "metadata": {},
   "outputs": [],
   "source": [
    "def num_to_str(n):\n",
    "    \n",
    "    s = str(n)\n",
    "    print(int(s[0]))\n",
    "    print(int(s[-1]))"
   ]
  },
  {
   "cell_type": "code",
   "execution_count": 105,
   "id": "51c0f525-c67a-4954-893f-4d28e3f6885d",
   "metadata": {},
   "outputs": [
    {
     "name": "stdout",
     "output_type": "stream",
     "text": [
      "3\n",
      "2\n"
     ]
    }
   ],
   "source": [
    "num_to_str(335412)"
   ]
  },
  {
   "cell_type": "code",
   "execution_count": 145,
   "id": "6926e944-0aba-48c4-96e0-58805a4f1431",
   "metadata": {},
   "outputs": [],
   "source": [
    "def dec_to_str(n):\n",
    "    l=[]\n",
    "    s = str(n)\n",
    "    for i in s:\n",
    "        l.append(i)\n",
    "    for i in range(0,len(l)):\n",
    "        if l[i]=='.':\n",
    "            print(len(l[i+1:]))\n",
    "        \n",
    "        "
   ]
  },
  {
   "cell_type": "code",
   "execution_count": 147,
   "id": "d98ed5e3-4eea-479e-af5b-2cdf034d51a3",
   "metadata": {},
   "outputs": [
    {
     "name": "stdout",
     "output_type": "stream",
     "text": [
      "3\n"
     ]
    }
   ],
   "source": [
    "dec_to_str(22.336)"
   ]
  },
  {
   "cell_type": "code",
   "execution_count": null,
   "id": "0f0880c7-df19-4279-b798-69cf514111cd",
   "metadata": {},
   "outputs": [],
   "source": []
  },
  {
   "cell_type": "code",
   "execution_count": null,
   "id": "c37e1599-85df-4d8a-9851-96b07b5c5cb3",
   "metadata": {},
   "outputs": [],
   "source": []
  },
  {
   "cell_type": "code",
   "execution_count": null,
   "id": "06045b01-1d5f-4a51-99e0-3017c06ed39c",
   "metadata": {},
   "outputs": [],
   "source": []
  },
  {
   "cell_type": "code",
   "execution_count": null,
   "id": "05cea2dd-e58d-4fa5-9312-cec19cdbe4a6",
   "metadata": {},
   "outputs": [],
   "source": []
  }
 ],
 "metadata": {
  "kernelspec": {
   "display_name": "Python 3 (ipykernel)",
   "language": "python",
   "name": "python3"
  },
  "language_info": {
   "codemirror_mode": {
    "name": "ipython",
    "version": 3
   },
   "file_extension": ".py",
   "mimetype": "text/x-python",
   "name": "python",
   "nbconvert_exporter": "python",
   "pygments_lexer": "ipython3",
   "version": "3.12.4"
  }
 },
 "nbformat": 4,
 "nbformat_minor": 5
}
