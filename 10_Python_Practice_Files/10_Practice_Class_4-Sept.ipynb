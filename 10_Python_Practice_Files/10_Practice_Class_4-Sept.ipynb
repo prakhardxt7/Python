{
 "cells": [
  {
   "cell_type": "code",
   "execution_count": 28,
   "id": "19397f0f-8777-4370-8afc-d998532fdb27",
   "metadata": {},
   "outputs": [],
   "source": [
    "def first_last(s):\n",
    "    if type(s) != str:\n",
    "        return 'Invalid'\n",
    "    return f'First letter is {s[0].upper()} and Last letter is {s[-1].upper()}.'"
   ]
  },
  {
   "cell_type": "code",
   "execution_count": 30,
   "id": "bd64f316-3108-4eaa-a08f-a8cdc7dbbb89",
   "metadata": {},
   "outputs": [
    {
     "data": {
      "text/plain": [
       "'Invalid'"
      ]
     },
     "execution_count": 30,
     "metadata": {},
     "output_type": "execute_result"
    }
   ],
   "source": [
    "first_last(24)"
   ]
  },
  {
   "cell_type": "code",
   "execution_count": 32,
   "id": "31966202-6167-47ea-8727-5abbf02ecbb5",
   "metadata": {},
   "outputs": [
    {
     "data": {
      "text/plain": [
       "'First letter is P and Last letter is R.'"
      ]
     },
     "execution_count": 32,
     "metadata": {},
     "output_type": "execute_result"
    }
   ],
   "source": [
    "first_last('Prakhar')"
   ]
  },
  {
   "cell_type": "code",
   "execution_count": 46,
   "id": "5f44cb21-00e1-4331-8aee-cb16faff3cb0",
   "metadata": {},
   "outputs": [],
   "source": [
    "def disp_len(s):\n",
    "    if type(s) != str:\n",
    "        return 'Invalid'\n",
    "    return 'Length of the string is:',len(s)"
   ]
  },
  {
   "cell_type": "code",
   "execution_count": 48,
   "id": "25e7cc6a-d8ad-4681-9d7f-d69fa37534d4",
   "metadata": {},
   "outputs": [
    {
     "data": {
      "text/plain": [
       "('Length of the string is:', 5)"
      ]
     },
     "execution_count": 48,
     "metadata": {},
     "output_type": "execute_result"
    }
   ],
   "source": [
    "disp_len('Hello')"
   ]
  },
  {
   "cell_type": "code",
   "execution_count": 50,
   "id": "88a0fc9b-c6bd-440f-97c4-5ad5311a4eac",
   "metadata": {},
   "outputs": [
    {
     "data": {
      "text/plain": [
       "'Invalid'"
      ]
     },
     "execution_count": 50,
     "metadata": {},
     "output_type": "execute_result"
    }
   ],
   "source": [
    "disp_len(True)"
   ]
  },
  {
   "cell_type": "code",
   "execution_count": 52,
   "id": "6e8de8a9-1dd6-4851-91de-bf1aeab9abcc",
   "metadata": {},
   "outputs": [
    {
     "data": {
      "text/plain": [
       "'Invalid'"
      ]
     },
     "execution_count": 52,
     "metadata": {},
     "output_type": "execute_result"
    }
   ],
   "source": [
    "disp_len(90)"
   ]
  },
  {
   "cell_type": "code",
   "execution_count": 58,
   "id": "c52d8426-9b88-409d-b736-6491a4e3de2a",
   "metadata": {},
   "outputs": [],
   "source": [
    "def step_str(s):\n",
    "    if type(s) != str:\n",
    "        return 'Invalid'\n",
    "    for i in s:\n",
    "        print(i)"
   ]
  },
  {
   "cell_type": "code",
   "execution_count": 60,
   "id": "52a6cbce-4b3d-48cb-a8ba-1218132692b6",
   "metadata": {},
   "outputs": [
    {
     "name": "stdout",
     "output_type": "stream",
     "text": [
      "P\n",
      "r\n",
      "a\n",
      "k\n",
      "h\n",
      "a\n",
      "r\n"
     ]
    }
   ],
   "source": [
    "step_str('Prakhar')"
   ]
  },
  {
   "cell_type": "code",
   "execution_count": 62,
   "id": "745a80c9-b2cc-4d0d-9220-497202da76fe",
   "metadata": {},
   "outputs": [],
   "source": [
    "def step_str2(s):\n",
    "    if type(s) != str:\n",
    "        return 'Invalid'\n",
    "    for i in s:\n",
    "        return i"
   ]
  },
  {
   "cell_type": "code",
   "execution_count": 64,
   "id": "ccb62e5b-5d0f-4df1-a728-4a53c88d392a",
   "metadata": {},
   "outputs": [
    {
     "data": {
      "text/plain": [
       "'P'"
      ]
     },
     "execution_count": 64,
     "metadata": {},
     "output_type": "execute_result"
    }
   ],
   "source": [
    "step_str2('Prakhar')"
   ]
  },
  {
   "cell_type": "code",
   "execution_count": 76,
   "id": "c03c933c-2243-48e2-8213-37e75c875a41",
   "metadata": {},
   "outputs": [],
   "source": [
    "def rev_str(s):\n",
    "    if type(s) != str:\n",
    "        return 'Invalid'\n",
    "    i = len(s)-1\n",
    "    while i>=0:\n",
    "        print(s[i])\n",
    "        i=i-1"
   ]
  },
  {
   "cell_type": "code",
   "execution_count": 78,
   "id": "e46d934d-b4ff-431f-9dd3-3b991bc0915e",
   "metadata": {},
   "outputs": [
    {
     "name": "stdout",
     "output_type": "stream",
     "text": [
      "r\n",
      "a\n",
      "h\n",
      "k\n",
      "a\n",
      "r\n",
      "P\n"
     ]
    }
   ],
   "source": [
    "rev_str('Prakhar')"
   ]
  },
  {
   "cell_type": "code",
   "execution_count": 84,
   "id": "e5097853-3295-44ed-a428-d587a4e4bbc8",
   "metadata": {},
   "outputs": [],
   "source": [
    "def rev_str_1(s):\n",
    "    if type(s) != str:\n",
    "        return 'Invalid'\n",
    "    print(s[::-1])"
   ]
  },
  {
   "cell_type": "code",
   "execution_count": 86,
   "id": "35754f4e-203f-4494-af9d-0ac9d128cb09",
   "metadata": {},
   "outputs": [
    {
     "name": "stdout",
     "output_type": "stream",
     "text": [
      "rahkarP\n"
     ]
    }
   ],
   "source": [
    "rev_str_1('Prakhar')"
   ]
  },
  {
   "cell_type": "code",
   "execution_count": 88,
   "id": "baf329c6-c4b3-4690-b675-20d8b1532b2b",
   "metadata": {},
   "outputs": [],
   "source": [
    "def word_count(n,w):\n",
    "    count = 0\n",
    "    for i in w:\n",
    "        if i==n:\n",
    "            count = count+1\n",
    "        else:\n",
    "            continue\n",
    "    return f'Total count of {n} in {w} is:{count}'"
   ]
  },
  {
   "cell_type": "code",
   "execution_count": 90,
   "id": "10ad633d-af5a-40de-ba0b-0fec65e462c5",
   "metadata": {},
   "outputs": [
    {
     "data": {
      "text/plain": [
       "'Total count of a in Prakhar is:2'"
      ]
     },
     "execution_count": 90,
     "metadata": {},
     "output_type": "execute_result"
    }
   ],
   "source": [
    "word_count('a','Prakhar')"
   ]
  },
  {
   "cell_type": "code",
   "execution_count": 116,
   "id": "0cca0b3f-30be-4089-973f-d354a63948b6",
   "metadata": {},
   "outputs": [],
   "source": [
    "def ext_r(w):\n",
    "    s1 = ''\n",
    "    for i in w:\n",
    "        if i.lower()=='r':\n",
    "            s1=s1+i\n",
    "        else:\n",
    "            continue\n",
    "    return s1,'The Count is',len(s1)"
   ]
  },
  {
   "cell_type": "code",
   "execution_count": 118,
   "id": "7f8293d9-48db-4103-a4ea-caa1bcd2d33f",
   "metadata": {},
   "outputs": [
    {
     "data": {
      "text/plain": [
       "('rrR', 'The Count is', 3)"
      ]
     },
     "execution_count": 118,
     "metadata": {},
     "output_type": "execute_result"
    }
   ],
   "source": [
    "ext_r('StrawberRy')"
   ]
  },
  {
   "cell_type": "code",
   "execution_count": 131,
   "id": "3d0134f2-de8b-4ea9-93bf-d2151d38414f",
   "metadata": {},
   "outputs": [],
   "source": [
    "def num_of_sent(w):\n",
    "    l = w.split('.')\n",
    "    print(l)\n",
    "    print('Total number of Sentences are:',len(l)-1)"
   ]
  },
  {
   "cell_type": "code",
   "execution_count": 133,
   "id": "492d7ec2-9c7e-4047-a502-c6055cdd25ae",
   "metadata": {},
   "outputs": [
    {
     "name": "stdout",
     "output_type": "stream",
     "text": [
      "['Hello World, My name is Prakhar', ' I am from Rajastan', ' living in bengalore', '']\n",
      "Total number of Sentences are: 3\n"
     ]
    }
   ],
   "source": [
    "num_of_sent('Hello World, My name is Prakhar. I am from Rajastan. living in bengalore.')"
   ]
  },
  {
   "cell_type": "code",
   "execution_count": 135,
   "id": "9222cc76-71dc-4621-898d-5bf4e9723313",
   "metadata": {},
   "outputs": [
    {
     "name": "stdout",
     "output_type": "stream",
     "text": [
      "['A Turning machine is a device that manipulates symbols on a strip of tape according to a table of rules', ' Despite its simplicity, a Turing machine can be adapted to simulate the logic of any computer algorithm, and is particularly useful in explaining the functions of a CPU inside a computer', ' The \"Turing\" machine was described by Alan Turing in 1936, who called it an \"a(utomatic)-machine\"', 'vmlvfmvlfvmvmfdvdvvpfdi', 'nfewnonooervioreoivve,weoencoojorjveri', '']\n",
      "Total number of Sentences are: 5\n"
     ]
    }
   ],
   "source": [
    "num_of_sent('A Turning machine is a device that manipulates symbols on a strip of tape according to a table of rules. Despite its simplicity, a Turing machine can be adapted to simulate the logic of any computer algorithm, and is particularly useful in explaining the functions of a CPU inside a computer. The \"Turing\" machine was described by Alan Turing in 1936, who called it an \"a(utomatic)-machine\".vmlvfmvlfvmvmfdvdvvpfdi.nfewnonooervioreoivve,weoencoojorjveri.')"
   ]
  },
  {
   "cell_type": "code",
   "execution_count": 143,
   "id": "a6171587-ef78-4d84-a2ff-799db71b9973",
   "metadata": {},
   "outputs": [],
   "source": [
    "def count_of_words(s):\n",
    "    count = 0\n",
    "    for i in s:\n",
    "        count = count+1\n",
    "    print(count)"
   ]
  },
  {
   "cell_type": "code",
   "execution_count": 145,
   "id": "a8adc7a4-3f28-4304-9243-c8a571608fc3",
   "metadata": {},
   "outputs": [
    {
     "name": "stdout",
     "output_type": "stream",
     "text": [
      "454\n"
     ]
    }
   ],
   "source": [
    "count_of_words('A Turning machine is a device that manipulates symbols on a strip of tape according to a table of rules. Despite its simplicity, a Turing machine can be adapted to simulate the logic of any computer algorithm, and is particularly useful in explaining the functions of a CPU inside a computer. The \"Turing\" machine was described by Alan Turing in 1936, who called it an \"a(utomatic)-machine\".vmlvfmvlfvmvmfdvdvvpfdi.nfewnonooervioreoivve,weoencoojorjveri.')"
   ]
  },
  {
   "cell_type": "code",
   "execution_count": 147,
   "id": "5228989a-5409-49c3-8550-feddbde2a429",
   "metadata": {},
   "outputs": [],
   "source": [
    "def count_of_words_2(s):\n",
    "    print(len(s))"
   ]
  },
  {
   "cell_type": "code",
   "execution_count": 149,
   "id": "54c76358-62dd-4ab4-a060-a3cd0361e00d",
   "metadata": {},
   "outputs": [
    {
     "name": "stdout",
     "output_type": "stream",
     "text": [
      "454\n"
     ]
    }
   ],
   "source": [
    "count_of_words_2('A Turning machine is a device that manipulates symbols on a strip of tape according to a table of rules. Despite its simplicity, a Turing machine can be adapted to simulate the logic of any computer algorithm, and is particularly useful in explaining the functions of a CPU inside a computer. The \"Turing\" machine was described by Alan Turing in 1936, who called it an \"a(utomatic)-machine\".vmlvfmvlfvmvmfdvdvvpfdi.nfewnonooervioreoivve,weoencoojorjveri.')"
   ]
  },
  {
   "cell_type": "code",
   "execution_count": 155,
   "id": "ac8cd005-ddb4-4ef4-8163-cd43d7fbc3fc",
   "metadata": {},
   "outputs": [],
   "source": [
    "#Palindrom\n",
    "def palindrom(s):\n",
    "    s1 = s.lower()\n",
    "    s2 = s1[::-1]\n",
    "\n",
    "    if s1==s2:\n",
    "        print(\"It is a palindrom\")\n",
    "    else:\n",
    "        print('NOT')\n",
    "        "
   ]
  },
  {
   "cell_type": "code",
   "execution_count": 157,
   "id": "320e9c02-2116-4ea8-8534-2366aea33628",
   "metadata": {},
   "outputs": [
    {
     "name": "stdout",
     "output_type": "stream",
     "text": [
      "It is a palindrom\n"
     ]
    }
   ],
   "source": [
    "palindrom('CIvic')"
   ]
  },
  {
   "cell_type": "code",
   "execution_count": 159,
   "id": "1e067e17-9647-41d8-93a1-14bf80b0d4c9",
   "metadata": {},
   "outputs": [],
   "source": [
    "#take a word, display the count of each letter appearing in the word e.g. door - d-1, o-2, r-1"
   ]
  },
  {
   "cell_type": "code",
   "execution_count": 207,
   "id": "8559aa00-3bfc-4117-ba15-29928b041c70",
   "metadata": {},
   "outputs": [],
   "source": [
    "def count1(w):\n",
    " \n",
    "    l = list(w)\n",
    "    s1 = set(l)\n",
    "    for j in s1:\n",
    "        count = l.count(j)\n",
    "        print(j, 'Count is -', count)\n",
    "\n",
    "\n"
   ]
  },
  {
   "cell_type": "code",
   "execution_count": 211,
   "id": "8bc8d6a0-a520-46ac-a443-138b457fe4a3",
   "metadata": {},
   "outputs": [
    {
     "name": "stdout",
     "output_type": "stream",
     "text": [
      "p Count is - 2\n",
      "a Count is - 1\n",
      "e Count is - 1\n",
      "l Count is - 1\n"
     ]
    }
   ],
   "source": [
    "count1('apple')"
   ]
  },
  {
   "cell_type": "code",
   "execution_count": null,
   "id": "d2a71fa9-9056-4e3d-b6c4-925c8be56422",
   "metadata": {},
   "outputs": [],
   "source": []
  }
 ],
 "metadata": {
  "kernelspec": {
   "display_name": "Python 3 (ipykernel)",
   "language": "python",
   "name": "python3"
  },
  "language_info": {
   "codemirror_mode": {
    "name": "ipython",
    "version": 3
   },
   "file_extension": ".py",
   "mimetype": "text/x-python",
   "name": "python",
   "nbconvert_exporter": "python",
   "pygments_lexer": "ipython3",
   "version": "3.12.4"
  }
 },
 "nbformat": 4,
 "nbformat_minor": 5
}
