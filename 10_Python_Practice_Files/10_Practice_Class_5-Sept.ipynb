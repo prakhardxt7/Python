{
 "cells": [
  {
   "cell_type": "code",
   "execution_count": 1,
   "id": "42920797-5d8b-4cad-b489-8626217f5971",
   "metadata": {},
   "outputs": [],
   "source": [
    "def len_l(l):\n",
    "    return len(l)"
   ]
  },
  {
   "cell_type": "code",
   "execution_count": 3,
   "id": "9f970893-96e2-4c0b-a34a-2fd78c3e3538",
   "metadata": {},
   "outputs": [
    {
     "data": {
      "text/plain": [
       "0"
      ]
     },
     "execution_count": 3,
     "metadata": {},
     "output_type": "execute_result"
    }
   ],
   "source": [
    "len([])"
   ]
  },
  {
   "cell_type": "code",
   "execution_count": 7,
   "id": "906d8e53-2a23-4cd0-b502-98b7acf37292",
   "metadata": {},
   "outputs": [],
   "source": [
    "num = ['Hello','World!',5,'Sept']"
   ]
  },
  {
   "cell_type": "code",
   "execution_count": 15,
   "id": "4994435f-d3e0-4268-a375-4f5ae5b64a2d",
   "metadata": {},
   "outputs": [],
   "source": [
    "\n",
    "def append_to_l(a):\n",
    "    num.append(a)\n",
    "    return num\n",
    "\n"
   ]
  },
  {
   "cell_type": "code",
   "execution_count": 17,
   "id": "d040abf6-997d-4d63-b1c7-8dfeee3f3e3f",
   "metadata": {},
   "outputs": [
    {
     "data": {
      "text/plain": [
       "['Hello', 'World!', 5, 'Sept', 22]"
      ]
     },
     "execution_count": 17,
     "metadata": {},
     "output_type": "execute_result"
    }
   ],
   "source": [
    "append_to_l(22)"
   ]
  },
  {
   "cell_type": "code",
   "execution_count": 19,
   "id": "be72b742-8016-4072-9178-7990c731a5ca",
   "metadata": {},
   "outputs": [
    {
     "data": {
      "text/plain": [
       "['Hello', 'World!', 5, 'Sept', 22, [1, 2]]"
      ]
     },
     "execution_count": 19,
     "metadata": {},
     "output_type": "execute_result"
    }
   ],
   "source": [
    "append_to_l([1,2])"
   ]
  },
  {
   "cell_type": "code",
   "execution_count": 21,
   "id": "5f76aa78-3cf0-46d6-93c7-a87c363e58d4",
   "metadata": {},
   "outputs": [
    {
     "data": {
      "text/plain": [
       "['Hello',\n",
       " 'World!',\n",
       " 5,\n",
       " 'Sept',\n",
       " 22,\n",
       " [1, 2],\n",
       " [[1, 2, 3], ['A', 'B', 'C'], [10, 20.3], ['X', 'Y', 'Z'], ['!', '@', '$']]]"
      ]
     },
     "execution_count": 21,
     "metadata": {},
     "output_type": "execute_result"
    }
   ],
   "source": [
    "append_to_l([[1,2,3],['A','B','C'],[10,20.30],['X','Y','Z'],['!','@','$']])"
   ]
  },
  {
   "cell_type": "code",
   "execution_count": 23,
   "id": "217ea1fa-761f-42c0-992b-4d8c52516eb5",
   "metadata": {},
   "outputs": [],
   "source": [
    "list_of_list=[[1,2,3],['A','B','C'],[10,20.30],['X','Y','Z'],['!','@','$']]"
   ]
  },
  {
   "cell_type": "code",
   "execution_count": 25,
   "id": "ac7935f5-596c-499f-83fa-38ef6cd18238",
   "metadata": {},
   "outputs": [
    {
     "data": {
      "text/plain": [
       "[1, 2, 3]"
      ]
     },
     "execution_count": 25,
     "metadata": {},
     "output_type": "execute_result"
    }
   ],
   "source": [
    "list_of_list[0]"
   ]
  },
  {
   "cell_type": "code",
   "execution_count": 27,
   "id": "f63cda50-408a-4dcb-86b4-6e4b044898fc",
   "metadata": {},
   "outputs": [
    {
     "data": {
      "text/plain": [
       "'C'"
      ]
     },
     "execution_count": 27,
     "metadata": {},
     "output_type": "execute_result"
    }
   ],
   "source": [
    "list_of_list[1][2]"
   ]
  },
  {
   "cell_type": "code",
   "execution_count": 31,
   "id": "111f646a-89d6-406d-835f-fa3bef242cf5",
   "metadata": {},
   "outputs": [],
   "source": [
    "num_list = [1,2,3,4,5]"
   ]
  },
  {
   "cell_type": "code",
   "execution_count": 35,
   "id": "fa29f3e3-ef89-4f39-9f78-bd21e266c548",
   "metadata": {},
   "outputs": [
    {
     "data": {
      "text/plain": [
       "[1, 2, 3, 4, 5]"
      ]
     },
     "execution_count": 35,
     "metadata": {},
     "output_type": "execute_result"
    }
   ],
   "source": [
    "num_list"
   ]
  },
  {
   "cell_type": "code",
   "execution_count": 37,
   "id": "89a86f63-d7c1-4c2f-9d2b-8382ecbdaee3",
   "metadata": {},
   "outputs": [],
   "source": [
    "num_list[1] = 'a-1'"
   ]
  },
  {
   "cell_type": "code",
   "execution_count": 39,
   "id": "6b6693dd-dcac-4e10-8671-56f42a5f33fd",
   "metadata": {},
   "outputs": [
    {
     "data": {
      "text/plain": [
       "[1, 'a-1', 3, 4, 5]"
      ]
     },
     "execution_count": 39,
     "metadata": {},
     "output_type": "execute_result"
    }
   ],
   "source": [
    "num_list"
   ]
  },
  {
   "cell_type": "code",
   "execution_count": 41,
   "id": "7989b13c-154f-4268-84f7-c5f332398b36",
   "metadata": {},
   "outputs": [],
   "source": [
    "d = {}"
   ]
  },
  {
   "cell_type": "code",
   "execution_count": 43,
   "id": "6170541a-cc18-4917-be70-102f64520e1d",
   "metadata": {},
   "outputs": [],
   "source": [
    "d1 = {'name':'Prakhar','age':25}"
   ]
  },
  {
   "cell_type": "code",
   "execution_count": 45,
   "id": "a25c7c30-9e14-4722-accf-53f17c4bdf85",
   "metadata": {},
   "outputs": [
    {
     "data": {
      "text/plain": [
       "{'name': 'Prakhar', 'age': 25}"
      ]
     },
     "execution_count": 45,
     "metadata": {},
     "output_type": "execute_result"
    }
   ],
   "source": [
    "d1"
   ]
  },
  {
   "cell_type": "code",
   "execution_count": 47,
   "id": "725073c9-59d8-4eb2-b655-5715fcd5d93a",
   "metadata": {},
   "outputs": [],
   "source": [
    "#  create a dict object to hold name, age, address of a person where address itself is a dict which holds door number, street, city and pincode"
   ]
  },
  {
   "cell_type": "code",
   "execution_count": 97,
   "id": "b8979d26-9416-4c7a-8b4b-87f659fc74e1",
   "metadata": {},
   "outputs": [],
   "source": [
    "name = 'Prakhar'\n",
    "age = 25\n",
    "address_det = ['door','Area','City','pin']\n",
    "address_val = [24,'HSR','Banglore',54446]\n",
    "add = dict(zip(address_det,address_val))\n",
    "d4 = {'name':'Prakhar','age':25,'address':{'door_num':24,'Area':'HSR','city':'Banglore','pin':54446}}"
   ]
  },
  {
   "cell_type": "code",
   "execution_count": 89,
   "id": "c8013ba1-175f-4be8-a927-1ae21f0e8ddd",
   "metadata": {},
   "outputs": [
    {
     "data": {
      "text/plain": [
       "{'name': 'Prakhar',\n",
       " 'age': 25,\n",
       " 'address': {'door_num': 24, 'Area': 'HSR', 'city': 'Banglore', 'pin': 54446}}"
      ]
     },
     "execution_count": 89,
     "metadata": {},
     "output_type": "execute_result"
    }
   ],
   "source": [
    "d4"
   ]
  },
  {
   "cell_type": "code",
   "execution_count": 99,
   "id": "4936e897-edab-47d6-aab8-e1937ca05625",
   "metadata": {},
   "outputs": [],
   "source": [
    "tc = ('Name','age','address')\n",
    "tp = (name,age,add)\n"
   ]
  },
  {
   "cell_type": "code",
   "execution_count": 101,
   "id": "6eca2e2d-9a5d-4bec-af29-97eb082380e2",
   "metadata": {},
   "outputs": [
    {
     "data": {
      "text/plain": [
       "('Prakhar', 25, {'door': 24, 'Area': 'HSR', 'City': 'Banglore', 'pin': 54446})"
      ]
     },
     "execution_count": 101,
     "metadata": {},
     "output_type": "execute_result"
    }
   ],
   "source": [
    "tp"
   ]
  },
  {
   "cell_type": "code",
   "execution_count": 105,
   "id": "7f26a164-92ae-4e8b-aef8-1ad49441b8ff",
   "metadata": {},
   "outputs": [
    {
     "data": {
      "text/plain": [
       "{'Name': 'Prakhar',\n",
       " 'age': 25,\n",
       " 'address': {'door': 24, 'Area': 'HSR', 'City': 'Banglore', 'pin': 54446}}"
      ]
     },
     "execution_count": 105,
     "metadata": {},
     "output_type": "execute_result"
    }
   ],
   "source": [
    "dict(zip(tc,tp))"
   ]
  },
  {
   "cell_type": "code",
   "execution_count": 129,
   "id": "653140c8-f980-435d-b6bc-9cca66e62334",
   "metadata": {},
   "outputs": [
    {
     "name": "stdout",
     "output_type": "stream",
     "text": [
      "{'Ds': 102, 'DE': 95, 'DA': 96}\n"
     ]
    }
   ],
   "source": [
    "# create a dict to hold a student name, marks where marks is made up of course:marks elements, display the courses and marks\n",
    "\n",
    "Student_mark_col = ('name','marks')\n",
    "Marks_col = ('Ds','DE','DA')\n",
    "Marks_det = (102,95,96)\n",
    "Marks = dict(zip(Marks_col,Marks_det))\n",
    "Student_det = ('Prakhar')\n",
    "\n",
    "print(Marks)"
   ]
  },
  {
   "cell_type": "code",
   "execution_count": 127,
   "id": "2f95f5e5-dd20-4441-810b-c010a9bc08f0",
   "metadata": {},
   "outputs": [
    {
     "data": {
      "text/plain": [
       "{('N', 'M'): ('P', 'Ds'), ('a', 'a'): ('r', 'DE'), ('m', 'r'): ('a', 'DA')}"
      ]
     },
     "execution_count": 127,
     "metadata": {},
     "output_type": "execute_result"
    }
   ],
   "source": []
  },
  {
   "cell_type": "code",
   "execution_count": null,
   "id": "cad89212-c72a-457b-8ee1-17de6fa4fda0",
   "metadata": {},
   "outputs": [],
   "source": []
  }
 ],
 "metadata": {
  "kernelspec": {
   "display_name": "Python 3 (ipykernel)",
   "language": "python",
   "name": "python3"
  },
  "language_info": {
   "codemirror_mode": {
    "name": "ipython",
    "version": 3
   },
   "file_extension": ".py",
   "mimetype": "text/x-python",
   "name": "python",
   "nbconvert_exporter": "python",
   "pygments_lexer": "ipython3",
   "version": "3.12.4"
  }
 },
 "nbformat": 4,
 "nbformat_minor": 5
}
