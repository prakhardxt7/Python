{
 "cells": [
  {
   "cell_type": "code",
   "execution_count": 82,
   "metadata": {},
   "outputs": [],
   "source": [
    "# Leap year\n",
    "\n",
    "def leap_yr(yr):\n",
    "    if yr>0:\n",
    "        if (yr%100 and yr%400==0) or yr%4==0:\n",
    "            return 'Leap'\n",
    "        else:\n",
    "            return 'Not a Leap'\n",
    "    else:\n",
    "        return 'Not a year!!'"
   ]
  },
  {
   "cell_type": "code",
   "execution_count": 83,
   "metadata": {},
   "outputs": [
    {
     "data": {
      "text/plain": [
       "'Not a Leap'"
      ]
     },
     "execution_count": 83,
     "metadata": {},
     "output_type": "execute_result"
    }
   ],
   "source": [
    "leap_yr(2010)"
   ]
  },
  {
   "cell_type": "code",
   "execution_count": 84,
   "metadata": {},
   "outputs": [
    {
     "data": {
      "text/plain": [
       "'Not a year!!'"
      ]
     },
     "execution_count": 84,
     "metadata": {},
     "output_type": "execute_result"
    }
   ],
   "source": [
    "leap_yr(-2020)"
   ]
  },
  {
   "cell_type": "code",
   "execution_count": 85,
   "metadata": {},
   "outputs": [],
   "source": [
    "# Type of triangle\n",
    "\n",
    "def tri_typ(a,b,c):\n",
    "    if a+b>c or b+c>a or c+a>b:\n",
    "        if a==b and b==c and c==a:\n",
    "            return 'Equiletral Triangle'\n",
    "        elif (a==b and c!=b and a!=c) or (b==c and c!=a and a!=b) or (c==a and c!=b and a!=b):\n",
    "            return 'Isosceles Triangle'\n",
    "        else:\n",
    "            return 'Scelene Triangle'\n",
    "    else:\n",
    "        return('No Triangle')"
   ]
  },
  {
   "cell_type": "code",
   "execution_count": 86,
   "metadata": {},
   "outputs": [
    {
     "data": {
      "text/plain": [
       "'Isosceles Triangle'"
      ]
     },
     "execution_count": 86,
     "metadata": {},
     "output_type": "execute_result"
    }
   ],
   "source": [
    "\n",
    "tri_typ(0,1,1)"
   ]
  },
  {
   "cell_type": "code",
   "execution_count": 87,
   "metadata": {},
   "outputs": [
    {
     "data": {
      "text/plain": [
       "'No Triangle'"
      ]
     },
     "execution_count": 87,
     "metadata": {},
     "output_type": "execute_result"
    }
   ],
   "source": [
    "tri_typ(0,0,0)"
   ]
  },
  {
   "cell_type": "code",
   "execution_count": 88,
   "metadata": {},
   "outputs": [
    {
     "data": {
      "text/plain": [
       "'Scelene Triangle'"
      ]
     },
     "execution_count": 88,
     "metadata": {},
     "output_type": "execute_result"
    }
   ],
   "source": [
    "tri_typ(3,2,1)"
   ]
  },
  {
   "cell_type": "code",
   "execution_count": 89,
   "metadata": {},
   "outputs": [
    {
     "data": {
      "text/plain": [
       "'Equiletral Triangle'"
      ]
     },
     "execution_count": 89,
     "metadata": {},
     "output_type": "execute_result"
    }
   ],
   "source": [
    "tri_typ(1,1,1)"
   ]
  },
  {
   "cell_type": "code",
   "execution_count": 90,
   "metadata": {},
   "outputs": [],
   "source": [
    "# Grade Calculation:\n",
    "def grade_calc(name,*m):\n",
    "    tot=0\n",
    "    for i in m:\n",
    "        tot = tot+i\n",
    "    avg = tot/len(m)\n",
    "    return (f'Hi {name} your total marks are {tot} and average is {round(avg,3)}')"
   ]
  },
  {
   "cell_type": "code",
   "execution_count": 91,
   "metadata": {},
   "outputs": [
    {
     "data": {
      "text/plain": [
       "'Hi Prakhar your total marks are 409 and average is 58.429'"
      ]
     },
     "execution_count": 91,
     "metadata": {},
     "output_type": "execute_result"
    }
   ],
   "source": [
    "grade_calc('Prakhar',45,46,78,100,22,55,63)"
   ]
  },
  {
   "cell_type": "code",
   "execution_count": 92,
   "metadata": {},
   "outputs": [],
   "source": [
    "def odd_even(n):\n",
    "    l=[]\n",
    "    if n%2==0:\n",
    "        l.append('Even')\n",
    "    else:\n",
    "        l.append('Odd')\n",
    "    s1 = str(n)\n",
    "    if len(s1)>1:\n",
    "        return f'The Given number is {l[0]} and its length is {len(s1)}'\n",
    "    else:\n",
    "        return f'The Given number is {l[0]} and its length is {len(s1)}'\n",
    "    "
   ]
  },
  {
   "cell_type": "code",
   "execution_count": 93,
   "metadata": {},
   "outputs": [
    {
     "data": {
      "text/plain": [
       "'The Given number is Even and its length is 1'"
      ]
     },
     "execution_count": 93,
     "metadata": {},
     "output_type": "execute_result"
    }
   ],
   "source": [
    "odd_even(2)"
   ]
  },
  {
   "cell_type": "code",
   "execution_count": 94,
   "metadata": {},
   "outputs": [
    {
     "data": {
      "text/plain": [
       "'The Given number is Even and its length is 15'"
      ]
     },
     "execution_count": 94,
     "metadata": {},
     "output_type": "execute_result"
    }
   ],
   "source": [
    "odd_even(202551616316516)"
   ]
  },
  {
   "cell_type": "code",
   "execution_count": 95,
   "metadata": {},
   "outputs": [
    {
     "data": {
      "text/plain": [
       "'The Given number is Odd and its length is 9'"
      ]
     },
     "execution_count": 95,
     "metadata": {},
     "output_type": "execute_result"
    }
   ],
   "source": [
    "odd_even(136648161)"
   ]
  },
  {
   "cell_type": "code",
   "execution_count": 96,
   "metadata": {},
   "outputs": [],
   "source": [
    "# Calculating total marks for Each Students\n",
    "import pandas as pd\n",
    "def name(*name):\n",
    "    l=[]\n",
    "    for i in name:\n",
    "        l.append(i)\n",
    "    return l\n",
    "def marks(*marks):\n",
    "    l1=[]\n",
    "    for i in marks:\n",
    "            l1.append(i)\n",
    "    return l1\n",
    "\n",
    "\n",
    "\n",
    "def marks_check(m,n):\n",
    "    if len(n)==len(m):\n",
    "        dfx = pd.DataFrame(dict(zip(n,m)))\n",
    "    \n",
    "        for i in dfx.columns:\n",
    "            print(f'Marks for {i} is {dfx[i].sum()}')\n",
    "    \n",
    "    else:\n",
    "        print('Details Missing')"
   ]
  },
  {
   "cell_type": "code",
   "execution_count": 97,
   "metadata": {},
   "outputs": [],
   "source": [
    "nai=name('P','R')\n",
    "mai = marks([1,2,3,4],[5,6,7,8])\n"
   ]
  },
  {
   "cell_type": "code",
   "execution_count": 98,
   "metadata": {},
   "outputs": [
    {
     "name": "stdout",
     "output_type": "stream",
     "text": [
      "Marks for P is 10\n",
      "Marks for R is 26\n"
     ]
    }
   ],
   "source": [
    "marks_check(mai,nai)"
   ]
  },
  {
   "cell_type": "code",
   "execution_count": 99,
   "metadata": {},
   "outputs": [],
   "source": [
    "new1=name('P','R','a')\n",
    "mew1 = marks([1,2,3,4],[5,6,7,8])\n"
   ]
  },
  {
   "cell_type": "code",
   "execution_count": 100,
   "metadata": {},
   "outputs": [
    {
     "name": "stdout",
     "output_type": "stream",
     "text": [
      "Details Missing\n"
     ]
    }
   ],
   "source": [
    "marks_check(new1,mew1)"
   ]
  },
  {
   "cell_type": "code",
   "execution_count": 101,
   "metadata": {},
   "outputs": [],
   "source": [
    "# Vowel or Consonent of a letter and calculate total number of vowels and consonents and print which wins vowels or consonents\n",
    "\n",
    "def vow_cons(s):\n",
    "    l = ['a','e','i','o','u']\n",
    "    v=[]\n",
    "    c = []\n",
    "    for i in s.lower():\n",
    "        if i in l:\n",
    "            print(f'{i} It is a vowel')\n",
    "            v.append(i)\n",
    "        else:\n",
    "            print(f'{i} is consonent.')\n",
    "            c.append(i)\n",
    "    print(f'Total Number of Vowels in the {s} is {len(v)}')\n",
    "    print(f'Total Number of Consonents in {s} is {len(c)}')\n"
   ]
  },
  {
   "cell_type": "code",
   "execution_count": 102,
   "metadata": {},
   "outputs": [
    {
     "name": "stdout",
     "output_type": "stream",
     "text": [
      "p is consonent.\n",
      "r is consonent.\n",
      "a It is a vowel\n",
      "k is consonent.\n",
      "h is consonent.\n",
      "a It is a vowel\n",
      "r is consonent.\n",
      "Total Number of Vowels in the Prakhar is 2\n",
      "Total Number of Consonents in Prakhar is 5\n"
     ]
    }
   ],
   "source": [
    "vow_cons('Prakhar')"
   ]
  },
  {
   "cell_type": "code",
   "execution_count": 103,
   "metadata": {},
   "outputs": [],
   "source": [
    "# nt Largest of  Number:\n",
    "\n",
    "def lar_of_n(n,*num):\n",
    "    a1 = pd.Series(num)\n",
    "    \n",
    "    a2=a1.sort_values()[::-1].reset_index(drop=True)\n",
    "    return a2[n-1]"
   ]
  },
  {
   "cell_type": "code",
   "execution_count": 104,
   "metadata": {},
   "outputs": [
    {
     "data": {
      "text/plain": [
       "150"
      ]
     },
     "execution_count": 104,
     "metadata": {},
     "output_type": "execute_result"
    }
   ],
   "source": [
    "lar_of_n(3,100,2,500,150,253,22)"
   ]
  },
  {
   "cell_type": "code",
   "execution_count": 105,
   "metadata": {},
   "outputs": [],
   "source": [
    "# Palindrom\n",
    "\n",
    "def palin(s):\n",
    "    if type(s)==str:\n",
    "        s1 = s[::-1]\n",
    "        if s1.lower()==s.lower():\n",
    "            print('It is a Palindrom')\n",
    "        else:\n",
    "            print('Not a Palin')\n",
    "    else:\n",
    "        print('Valid Input Please')"
   ]
  },
  {
   "cell_type": "code",
   "execution_count": 106,
   "metadata": {},
   "outputs": [
    {
     "name": "stdout",
     "output_type": "stream",
     "text": [
      "It is a Palindrom\n"
     ]
    }
   ],
   "source": [
    "palin('civiC')"
   ]
  },
  {
   "cell_type": "code",
   "execution_count": 107,
   "metadata": {},
   "outputs": [
    {
     "name": "stdout",
     "output_type": "stream",
     "text": [
      "Valid Input Please\n"
     ]
    }
   ],
   "source": [
    "palin(24)"
   ]
  },
  {
   "cell_type": "code",
   "execution_count": 108,
   "metadata": {},
   "outputs": [
    {
     "name": "stdout",
     "output_type": "stream",
     "text": [
      "Not a Palin\n"
     ]
    }
   ],
   "source": [
    "palin('sfdsfdsv')"
   ]
  },
  {
   "cell_type": "code",
   "execution_count": null,
   "metadata": {},
   "outputs": [],
   "source": []
  }
 ],
 "metadata": {
  "kernelspec": {
   "display_name": "base",
   "language": "python",
   "name": "python3"
  },
  "language_info": {
   "codemirror_mode": {
    "name": "ipython",
    "version": 3
   },
   "file_extension": ".py",
   "mimetype": "text/x-python",
   "name": "python",
   "nbconvert_exporter": "python",
   "pygments_lexer": "ipython3",
   "version": "3.12.4"
  }
 },
 "nbformat": 4,
 "nbformat_minor": 2
}
